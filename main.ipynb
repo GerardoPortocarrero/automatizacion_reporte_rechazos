{
 "cells": [
  {
   "cell_type": "markdown",
   "id": "d869f857",
   "metadata": {},
   "source": [
    "### Importaciones"
   ]
  },
  {
   "cell_type": "code",
   "execution_count": 120,
   "id": "163cd28c",
   "metadata": {},
   "outputs": [],
   "source": [
    "# Paquetes necesarios para la ejecución del notebook\n",
    "import win32com.client\n",
    "import os\n",
    "import datetime\n",
    "import pandas as pd\n",
    "import shutil"
   ]
  },
  {
   "cell_type": "markdown",
   "id": "1ef3e61e",
   "metadata": {},
   "source": [
    "### Configuracion"
   ]
  },
  {
   "cell_type": "code",
   "execution_count": 121,
   "id": "61fdc76a",
   "metadata": {},
   "outputs": [],
   "source": [
    "# Constantes usadas en el notebook\n",
    "MAPI = \"MAPI\" # Messaging Application Programming Interface\n",
    "DOT = \".\"\n",
    "OUTLOOK = \"Outlook\"\n",
    "APPLICATION = \"Application\"\n",
    "MAIL_ITEM_CODE = 43\n",
    "\n",
    "# Diccionarios\n",
    "outlook_folder_codes = {\n",
    "    0: 'Calendario',\n",
    "    1: 'Contactos',\n",
    "    2: 'Borradores',\n",
    "    3: 'Diario / Jornal',\n",
    "    4: 'Notas',\n",
    "    5: 'Tareas',\n",
    "    6: 'Bandeja de entrada',\n",
    "    7: 'Bandeja de salida',\n",
    "    8: 'Elementos enviados',\n",
    "    9: 'Elementos eliminados',\n",
    "    10: 'Bandeja de correo del servidor',\n",
    "    11: 'Conflictos',\n",
    "    12: 'Elementos de sincronizacion local',\n",
    "    13: 'Elementos de sincronizacion (Envio)',\n",
    "    14: 'Elementos de sincronización (Recibo)',\n",
    "    15: 'Elementos de sincronización completa',\n",
    "    16: 'Diario de formularios',\n",
    "    17: 'Carpeta de búsqueda',\n",
    "    18: 'Bandeja para reglas cliente',\n",
    "    19: 'Carpeta de sugerencias de correo',\n",
    "}\n",
    "\n",
    "# Variables de configuracion\n",
    "root_address = r'C:\\Informacion\\rechazos' # Direcccion de carpeta raiz\n",
    "test_address = r'\\prueba'\n",
    "backup_address = r'\\backup'\n",
    "transportista = {\n",
    "    \"mail_subject\": \"Reporte de ordenes de carga diario\",         # Nombre del asunto de correo\n",
    "    \"local_file_name\": \"Cf_programadas_por_transportista.xlsx\",   # Nombre del archivo local\n",
    "    \"mail_file_address\": \"\",                                      # Direccion del archivo en el correo\n",
    "}\n",
    "ruta = {\n",
    "    \"mail_subject\": \"Venta perdida diaria por cliente y ruta - acum mes\",   # Nombre del asunto de correo\n",
    "    \"local_file_name\": \"Cf_rech_por_ruta.xlsx\",                             # Nombre del archivo local\n",
    "    \"mail_file_name\": \"\",                                                   # Direccion del archivo en el correo\n",
    "}"
   ]
  },
  {
   "cell_type": "markdown",
   "id": "b058bcf2",
   "metadata": {},
   "source": [
    "### Obtener correos de outlook"
   ]
  },
  {
   "cell_type": "code",
   "execution_count": 122,
   "id": "127123ae",
   "metadata": {},
   "outputs": [
    {
     "name": "stdout",
     "output_type": "stream",
     "text": [
      "Tipo de folder:  Bandeja de entrada\n"
     ]
    }
   ],
   "source": [
    "# Conectar a Outlook\n",
    "outlook_folder_code = int(input(f'{\" \".join([\"(\" + str(key) + \": \" + value + \")\" for key, value in outlook_folder_codes.items()])}'))\n",
    "outlook = win32com.client.Dispatch(OUTLOOK+DOT+APPLICATION).GetNamespace(MAPI)\n",
    "\n",
    "outlook_folder = outlook.GetDefaultFolder(outlook_folder_code)\n",
    "print(\"Tipo de folder: \", outlook_folder)"
   ]
  },
  {
   "cell_type": "markdown",
   "id": "8adb2ea7",
   "metadata": {},
   "source": [
    "### Guardar archivo de outlook"
   ]
  },
  {
   "cell_type": "code",
   "execution_count": 123,
   "id": "af8303c0",
   "metadata": {},
   "outputs": [
    {
     "name": "stdout",
     "output_type": "stream",
     "text": [
      "C:\\Informacion\\rechazos\\prueba\\Reporte de Guias de Distribución por FechaV3_6984_8638071872536108373.xlsx\n",
      "C:\\Informacion\\rechazos\\prueba\\Venta perdida x Cliente y ruta diaria_1489_4260537791185343261.xlsx\n"
     ]
    }
   ],
   "source": [
    "# Buscar el correo más reciente con archivo Excel\n",
    "mails = outlook_folder.Items\n",
    "\n",
    "# Ordenar por fecha descendente\n",
    "mails.Sort(\"[ReceivedTime]\", True) # (mails) Es un objeto lista\n",
    "\n",
    "def download_excel_file(mails, mail_subject):\n",
    "    for mail in mails: # Recorrer todos los correos\n",
    "        if mail.Class != MAIL_ITEM_CODE: # Asegurar que el correo sea un MailItem (otros pueden ser calendario, alertas, etc)\n",
    "            continue\n",
    "        if (mail_subject.lower() in mail.Subject.lower()) & (mail.Attachments.Count > 0):\n",
    "            for attachment in mail.Attachments:\n",
    "                if attachment.FileName.endswith((\".xlsx\", \".xls\")):\n",
    "                    file_name = attachment.FileName\n",
    "                    file_address = os.path.join(root_address+test_address, file_name)\n",
    "                    attachment.SaveAsFile(file_address)\n",
    "                    return file_address            \n",
    "\n",
    "transportista['mail_file_address'] = download_excel_file(mails, transportista['mail_subject'])\n",
    "ruta['mail_file_address'] = download_excel_file(mails, ruta['mail_subject'])\n",
    "\n",
    "print(transportista['mail_file_address'])\n",
    "print(ruta['mail_file_address'])"
   ]
  },
  {
   "cell_type": "markdown",
   "id": "319423d3",
   "metadata": {},
   "source": [
    "### Actualizar archivos fuente"
   ]
  },
  {
   "cell_type": "code",
   "execution_count": null,
   "id": "b67fbb60",
   "metadata": {},
   "outputs": [
    {
     "name": "stderr",
     "output_type": "stream",
     "text": [
      "c:\\Users\\AYACDA23\\AppData\\Local\\Programs\\Python\\Python313\\Lib\\site-packages\\openpyxl\\styles\\stylesheet.py:237: UserWarning: Workbook contains no default style, apply openpyxl's default\n",
      "  warn(\"Workbook contains no default style, apply openpyxl's default\")\n",
      "c:\\Users\\AYACDA23\\AppData\\Local\\Programs\\Python\\Python313\\Lib\\site-packages\\openpyxl\\styles\\stylesheet.py:237: UserWarning: Workbook contains no default style, apply openpyxl's default\n",
      "  warn(\"Workbook contains no default style, apply openpyxl's default\")\n"
     ]
    }
   ],
   "source": [
    "def update_excel_file(mail_file_address, sheet_name, local_file_name):\n",
    "    # Leer datos de una hoja específica (opcional)\n",
    "    df_nuevo = pd.read_excel(mail_file_address, sheet_name=sheet_name) # o usa None para todas las hojas\n",
    "\n",
    "    # Direccion de archivo local\n",
    "    local_file_address =  os.path.join(root_address+test_address, local_file_name)\n",
    "\n",
    "    # Backup del archivo\n",
    "    local_file__backup_address =  os.path.join(root_address+test_address+backup_address, local_file_name)\n",
    "    shutil.copy2(local_file_address, local_file__backup_address) # Crear el backup\n",
    "\n",
    "    # TAREA: AGREGAR CORRECTAMENTE LA INFORMACION NUEVA DEL CORREO AL LOCAL\n",
    "\n",
    "\n",
    "update_excel_file(transportista['mail_file_address'], \"Guias\", transportista['local_file_name'])\n",
    "update_excel_file(ruta['mail_file_address'], \"Motivos_VP (clte)\", ruta['local_file_name'])"
   ]
  }
 ],
 "metadata": {
  "kernelspec": {
   "display_name": "Python 3",
   "language": "python",
   "name": "python3"
  },
  "language_info": {
   "codemirror_mode": {
    "name": "ipython",
    "version": 3
   },
   "file_extension": ".py",
   "mimetype": "text/x-python",
   "name": "python",
   "nbconvert_exporter": "python",
   "pygments_lexer": "ipython3",
   "version": "3.13.3"
  }
 },
 "nbformat": 4,
 "nbformat_minor": 5
}
