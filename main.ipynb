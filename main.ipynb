{
 "cells": [
  {
   "cell_type": "markdown",
   "id": "d869f857",
   "metadata": {},
   "source": [
    "### Importaciones"
   ]
  },
  {
   "cell_type": "code",
   "execution_count": 32,
   "id": "163cd28c",
   "metadata": {},
   "outputs": [],
   "source": [
    "# Paquetes necesarios para la ejecución del notebook\n",
    "import win32com.client\n",
    "import os\n",
    "import pandas as pd\n",
    "import openpyxl\n",
    "import polars as pl\n",
    "import pygetwindow as gw\n",
    "import importlib\n",
    "\n",
    "# Módulos personalizados\n",
    "import download_mail_files as dmf\n",
    "import update_local_files as usf\n",
    "import update_transportista_resumen_file as utr\n",
    "import make_automate_powerbi_report as pb_automate\n",
    "import analysis_and_operations as aos\n",
    "import set_mail_report as smr"
   ]
  },
  {
   "cell_type": "markdown",
   "id": "1ef3e61e",
   "metadata": {},
   "source": [
    "### Configuracion"
   ]
  },
  {
   "cell_type": "code",
   "execution_count": 15,
   "id": "61fdc76a",
   "metadata": {},
   "outputs": [
    {
     "name": "stderr",
     "output_type": "stream",
     "text": [
      "<>:155: SyntaxWarning: invalid escape sequence '\\/'\n",
      "<>:163: SyntaxWarning: invalid escape sequence '\\/'\n",
      "<>:174: SyntaxWarning: invalid escape sequence '\\/'\n",
      "<>:155: SyntaxWarning: invalid escape sequence '\\/'\n",
      "<>:163: SyntaxWarning: invalid escape sequence '\\/'\n",
      "<>:174: SyntaxWarning: invalid escape sequence '\\/'\n",
      "C:\\Users\\AYACDA23\\AppData\\Local\\Temp\\ipykernel_15780\\1292025505.py:155: SyntaxWarning: invalid escape sequence '\\/'\n",
      "  \"date_format\": \"dd\\/mm\\/yyyy\",\n",
      "C:\\Users\\AYACDA23\\AppData\\Local\\Temp\\ipykernel_15780\\1292025505.py:163: SyntaxWarning: invalid escape sequence '\\/'\n",
      "  \"date_format\": \"dd\\/mm\\/yyyy\",\n",
      "C:\\Users\\AYACDA23\\AppData\\Local\\Temp\\ipykernel_15780\\1292025505.py:174: SyntaxWarning: invalid escape sequence '\\/'\n",
      "  \"date_format\": \"d\\/m\\/yy\",\n"
     ]
    }
   ],
   "source": [
    "# Constantes usadas en el notebook\n",
    "MAPI = \"MAPI\" # Messaging Application Programming Interface\n",
    "DOT = \".\"\n",
    "OUTLOOK = \"Outlook\"\n",
    "APPLICATION = \"Application\"\n",
    "\n",
    "# Diccionarios\n",
    "outlook_folder_codes = {\n",
    "    0: 'Calendario',\n",
    "    1: 'Contactos',\n",
    "    2: 'Borradores',\n",
    "    3: 'Diario / Jornal',\n",
    "    4: 'Notas',\n",
    "    5: 'Tareas',\n",
    "    6: 'Bandeja de entrada',\n",
    "    7: 'Bandeja de salida',\n",
    "    8: 'Elementos enviados',\n",
    "    9: 'Elementos eliminados',\n",
    "    10: 'Bandeja de correo del servidor',\n",
    "    11: 'Conflictos',\n",
    "    12: 'Elementos de sincronizacion local',\n",
    "    13: 'Elementos de sincronizacion (Envio)',\n",
    "    14: 'Elementos de sincronización (Recibo)',\n",
    "    15: 'Elementos de sincronización completa',\n",
    "    16: 'Diario de formularios',\n",
    "    17: 'Carpeta de búsqueda',\n",
    "    18: 'Bandeja para reglas cliente',\n",
    "    19: 'Carpeta de sugerencias de correo',\n",
    "}\n",
    "outlook_object_types = {\n",
    "    \"AppointmentItem\": 26,\n",
    "    \"MailItem\": 43,\n",
    "    \"TaskItem\": 46,\n",
    "    \"ContactItem\": 48,\n",
    "    \"MeetingItem\": 53,\n",
    "}\n",
    "parse_locaciones = {\n",
    "    '06 AYA EL PEDREGAL': 'Pedregal',\n",
    "    '38 AYA ATICO': 'Atico',\n",
    "    '40 AYA CHALA': 'Chala',\n",
    "    '88 AYA CAMANA': 'Camana'\n",
    "}\n",
    "meta = {\n",
    "    '06 AYA EL PEDREGAL': {\n",
    "        2023: {1: 0.7, 2: 0.7, 3: 0.7, 4: 0.7, 5: 0.7, 6: 0.7, 7: 0.7, 8:0.7, 9:0.7, 10:0.7, 11:0.7, 12:0.7},\n",
    "        2024: {1: 1.2, 2: 1.2, 3: 1.2, 4: 1, 5: 1, 6: 1, 7: 1, 8: 1, 9: 1, 10: 1, 11: 1, 12: 1},\n",
    "        2025: {1: 0.88, 2: 0.88, 3: 0.88, 4: 0.88, 5: 0.88, 6: 0.88, 7: 0, 8: 0, 9: 0, 10: 0, 11: 0, 12: 0},\n",
    "    },\n",
    "    '38 AYA ATICO': {\n",
    "        2023: {1: 0.7, 2: 0.7, 3: 0.7, 4: 0.7, 5: 0.7, 6: 0.7, 7: 0.7, 8:0.7, 9:0.7, 10:0.7, 11:0.7, 12:0.7},\n",
    "        2024: {1: 0.4, 2: 0.4, 3: 0.4, 4: 0.48, 5: 0.48, 6: 0.48, 7: 0.48, 8: 0.48, 9: 0.48, 10: 0.48, 11: 0.48, 12: 0.48},\n",
    "        2025: {1: 0.24, 2: 0.24, 3: 0.24, 4: 0.24, 5: 0.24, 6: 0.24, 7: 0, 8: 0, 9: 0, 10: 0, 11: 0, 12: 0},\n",
    "    },\n",
    "    '40 AYA CHALA': {\n",
    "        2023: {1: 0.7, 2: 0.7, 3: 0.7, 4: 0.7, 5: .7, 6: 0.7, 7: 0.7, 8:0.7, 9:0.7, 10:0.7, 11:0.7, 12:0.7},\n",
    "        2024: {1: 0.5, 2: 0.5, 3: 0.5, 4: 0.60, 5: 0.60, 6: 0.60, 7: 0.60, 8: 0.60, 9: 0.60, 10: 0.60, 11: 0.60, 12: 0.60},\n",
    "        2025: {1: 0.31, 2: 0.31, 3: 0.31, 4: 0.31, 5: 0.31, 6: 0.31, 7: 0, 8: 0, 9: 0, 10: 0, 11: 0, 12: 0},\n",
    "    },\n",
    "    '88 AYA CAMANA': {\n",
    "        2023: {1: 0.7, 2: 0.7, 3: 0.7, 4: 0.7, 5: 0.7, 6: 0.7, 7: 0.7, 8:0.7, 9:0.7, 10:0.7, 11:0.7, 12:0.7},\n",
    "        2024: {1: 0.85, 2: 0.85, 3: 0.85, 4: 0.85, 5: 0.85, 6: 0.85, 7: 0.85, 8: 0.85, 9: 0.85, 10: 0.85, 11: 0.85, 12: 0.85},\n",
    "        2025: {1: 0.57, 2: 0.57, 3: 0.57, 4: 0.57, 5: 0.57, 6: 0.57, 7: 0, 8: 0, 9: 0, 10: 0, 11: 0, 12: 0},\n",
    "    }\n",
    "}\n",
    "months = {\n",
    "    1: 'Enero', 2: 'Febrero', 3: 'Marzo', 4: 'Abril', 5: 'Mayo', 6: 'Junio',\n",
    "    7: 'Julio', 8: 'Agosto', 9: 'Septiembre', 10: 'Octubre', \n",
    "    11: 'Noviembre', 12: 'Diciembre'\n",
    "}\n",
    "vendedores = {\n",
    "    '06 AYA EL PEDREGAL': {\n",
    "        '0000001013': 'AYALA CCAHUANA EDMUNDO',\n",
    "        '0000001006': 'BARRAZA REVILLA FREDY',\n",
    "        '0000001000': 'CARDENAS CHOQUECAJIA WHITNEY AWARD',\n",
    "        '0000001001': 'CHARA ROJAS GISELA SOLEDAD',\n",
    "        '0000001007': 'CHINO QUISPE JORGE LUIS',\n",
    "        '0000006014': 'EDWAR QUISPE CHINO',\n",
    "        '0000006009': 'GALLARDO HUAYLLA RENATO LEUTERIO',\n",
    "        '0000006003': 'GALLEGOS NUÑEZ JUAN FREDY',\n",
    "        '0000005999': 'GESTOR VIRTUAL',\n",
    "        '0000001010': 'HUANCA MAMANI JACKSON',\n",
    "        '0000006006': 'HUAYCHO TORRES ULBER',\n",
    "        '0000006005': 'HUAYCHO TORRES ULBER',\n",
    "        '0000001012': 'HUAYLLAZO HUACCHA CRISTHIAN PAOLO',\n",
    "        '0000006012': 'NELSON RAUL CONZA CHARCA',\n",
    "        '0000001002': 'PACHECO CONDORI ANDRES OSCAR',\n",
    "        '0000001011': 'QUISPE CHINO WILIAN YURI',\n",
    "        '0000001004': 'QUISPE HUAYLLA MARISOL S.',\n",
    "        '0000006013': 'RONALD GONZALO HUILLCA MAMANI',\n",
    "        '0000001003': 'TACO XESSPE KELY SOFIA',\n",
    "        '0000001005': 'VALDERRAMA ELLIS JESSICA A.',\n",
    "        '0000001008': 'VEND NVA RUTA 10',\n",
    "        '0000001009': 'YUCRA JIMENEZ ANA LUZ',\n",
    "        '0000001014': 'CHARA ROJAS GISELA SOLEDAD',\n",
    "        '0000001015': 'BARRAZA REVILLA FREDY',\n",
    "        '0000001019': 'BATALLANOS SANCA RODRIGO LEOPOLDO',\n",
    "        '0000001016': 'PARI PUCHO FREDY OSWALDO',\n",
    "        '0000001017': 'COAGUILLA MAMANI JOSE ALBERTO',\n",
    "        '0000001018': 'ORTEGA MAMANI JORGE LUIS'\n",
    "    },\n",
    "    '38 AYA ATICO': {\n",
    "        '0000001001': 'ALANYA RAMIREZ FERNANDO JOSUE',\n",
    "        '0000005999': 'GESTOR VIRTUAL',\n",
    "        '0000001000': 'SAUL ANDRES VIÑA VIZCARDO'\n",
    "    },\n",
    "    '40 AYA CHALA': {\n",
    "        '0000001004': 'CANALES AGUILAR HILBERTO',\n",
    "        '0000001007': 'CHIPANA JURADO JHORS EDUARDO',\n",
    "        '0000006010': 'DIONICIO DANIEL HUARCAYA SALAZAR',\n",
    "        '0000005999': 'GESTOR VIRTUAL',\n",
    "        '0000006009': 'GLOBER FELIPE JARA MAQUER',\n",
    "        '0000006005': 'GONZALES CHURA MAGNO ALFREDO',\n",
    "        '0000001000': 'HERRERA TAPIA EDWIN DONATO',\n",
    "        '0000006002': 'JARA CARAZAS RODOLFO JOSUE.L',\n",
    "        '0000006007': 'JUAN CARLOS ARIAS BENITES',\n",
    "        '0000001003': 'MAMANI TINTAYA KRISTHOFER',\n",
    "        '0000001006': 'MAMANI TINTAYA KRISTHOFER',\n",
    "        '0000001005': 'QUISE CCAPA EVER',\n",
    "        '0000001002': 'RODRIGUEZ JOSE ANTONIO',\n",
    "        '0000001001': 'VENDEDOR RT M1'        \n",
    "    },\n",
    "    '88 AYA CAMANA': {\n",
    "        '0000001007': 'AUCAHUAQUI REVILLA DANIEL HITLER',\n",
    "        '0000001011': 'CARAZAS REZA LUIS ALBERTO',\n",
    "        '0000001003': 'CONDORCHOA SIERRA NEMECIO',\n",
    "        '0000006001': 'CONDORCHOA SIERRA NEMESIO JESUS',\n",
    "        '0000006002': 'DE LA CRUZ CALCINA ELAR',\n",
    "        '0000006010': 'EDILBERTO RAMIREZ LARICO',\n",
    "        '0000005999': 'GESTOR VIRTUAL',\n",
    "        '0000001002': 'HUAMANI RODRIGUEZ YONATAN ANYIMZAN',\n",
    "        '0000006011': 'JAIME CHAVEZ CONDORI',\n",
    "        '0000001005': 'LLERENA DE LA CRUZ RICARDO SNEIDER',\n",
    "        '0000001004': 'MEDINA VELASQUEZ JAVIER ENRIQUE',\n",
    "        '0000006014': 'MOISES RICHARD CONDORCHOA SIERRA',\n",
    "        '0000001008': 'MOLLO YUPANQUI JOSE OMAR',\n",
    "        '0000001001': 'NO APLICA VENDEDOR',\n",
    "        '0000006008': 'QUISPE CCACHUCO FREDY',\n",
    "        '0000001010': 'RAMOS MAMANI RUBEN',\n",
    "        '0000006016': 'RENATO ELEUTERIO GALLARADO HUAYLLA',\n",
    "        '0000001006': 'SACARI CHOQUEHUANCA WILSON',\n",
    "        '0000001000': 'SALAZAR HUAMANI SAUL ANTONIO',\n",
    "        '0000001012': 'VEND RT X1',\n",
    "        '0000001009': 'VIZCARDO BUSTAMANTE ALBERTH FRANCK'\n",
    "    }\n",
    "}\n",
    "transportista = {\n",
    "    \"name\": \"transportista\",\n",
    "    \"mail_subject\": \"Reporte de ordenes de carga diario\",         # Nombre del asunto de correo\n",
    "    \"local_file_name\": \"Cf_programadas_por_transportista.csv\",    # Nombre del archivo local\n",
    "    \"local_file_address\": \"\",                                     # Direccion del archivo local\n",
    "    \"mail_file_address\": \"\",                                      # Direccion del archivo del correo\n",
    "    \"mail_sheet_name\": \"Guias\",\n",
    "    \"mail_received_time\": \"\",\n",
    "    \"date\": \"Fecha\",\n",
    "    \"date_format\": \"dd\\/mm\\/yyyy\",\n",
    "}\n",
    "transportista_resumen = {\n",
    "    \"name\": \"transportista resumen\",\n",
    "    \"mail_subject\": \"Reporte de ordenes de carga diario\",                 # Nombre del asunto de correo\n",
    "    \"local_file_name\": \"Cf_programadas_por_transportista_resumen.csv\",    # Nombre del archivo local\n",
    "    \"local_file_address\": \"\",                                             # Direccion del archivo local\n",
    "    \"date\": \"Fecha\",\n",
    "    \"date_format\": \"dd\\/mm\\/yyyy\",\n",
    "}\n",
    "ruta = {\n",
    "    \"name\": \"ruta\",\n",
    "    \"mail_subject\": \"Venta perdida diaria por cliente y ruta - acum mes\",   # Nombre del asunto de correo\n",
    "    \"local_file_name\": \"Cf_rech_por_ruta.csv\",                              # Nombre del archivo local\n",
    "    \"local_file_address\": \"\",                                               # Direccion del archivo local\n",
    "    \"mail_file_address\": \"\",                                                # Direccion del archivo del correo\n",
    "    \"mail_sheet_name\": \"Motivos_VP (clte)\",\n",
    "    \"mail_received_time\": \"\",\n",
    "    \"date\": \"Día\",\n",
    "    \"date_format\": \"d\\/m\\/yy\",\n",
    "}\n",
    "\n",
    "# Listas\n",
    "locaciones = ['06 AYA EL PEDREGAL', '38 AYA ATICO', '40 AYA CHALA', '88 AYA CAMANA']\n",
    "\n",
    "# Variables de configuracion\n",
    "root_address = r'C:\\Informacion\\rechazos' # Direcccion de carpeta raiz\n",
    "test_address = r'\\prueba'\n",
    "backup_address = r'\\backup'\n",
    "project_address = r'C:\\Informacion\\rechazos\\Analisis\\automatizacion_reporte_rechazos'\n",
    "mail_report_folder_address = \"mail_report\""
   ]
  },
  {
   "cell_type": "markdown",
   "id": "b058bcf2",
   "metadata": {},
   "source": [
    "### Obtener correos de outlook"
   ]
  },
  {
   "cell_type": "code",
   "execution_count": 16,
   "id": "127123ae",
   "metadata": {},
   "outputs": [
    {
     "name": "stdout",
     "output_type": "stream",
     "text": [
      "Tipo de folder:  Bandeja de entrada\n"
     ]
    }
   ],
   "source": [
    "# Conectar a Outlook\n",
    "#outlook_folder_code = int(input(f'{\" \".join([\"(\" + str(key) + \": \" + value + \")\" for key, value in outlook_folder_codes.items()])}'))\n",
    "outlook = win32com.client.Dispatch(OUTLOOK+DOT+APPLICATION).GetNamespace(MAPI)\n",
    "\n",
    "outlook_folder = outlook.GetDefaultFolder(6)\n",
    "print(\"Tipo de folder: \", outlook_folder)"
   ]
  },
  {
   "cell_type": "markdown",
   "id": "8adb2ea7",
   "metadata": {},
   "source": [
    "### Guardar archivo de outlook"
   ]
  },
  {
   "cell_type": "code",
   "execution_count": 23,
   "id": "af8303c0",
   "metadata": {},
   "outputs": [
    {
     "name": "stderr",
     "output_type": "stream",
     "text": [
      "c:\\Users\\AYACDA23\\AppData\\Local\\Programs\\Python\\Python313\\Lib\\site-packages\\openpyxl\\styles\\stylesheet.py:237: UserWarning: Workbook contains no default style, apply openpyxl's default\n",
      "  warn(\"Workbook contains no default style, apply openpyxl's default\")\n",
      "c:\\Users\\AYACDA23\\AppData\\Local\\Programs\\Python\\Python313\\Lib\\site-packages\\openpyxl\\styles\\stylesheet.py:237: UserWarning: Workbook contains no default style, apply openpyxl's default\n",
      "  warn(\"Workbook contains no default style, apply openpyxl's default\")\n"
     ]
    },
    {
     "name": "stdout",
     "output_type": "stream",
     "text": [
      "DATOS: {'transportista': {'file_address': 'C:\\\\Informacion\\\\rechazos\\\\prueba\\\\Reporte de Guias de Distribución por FechaV3_52_6799742004499610851.xlsx', 'received_time': '2025-06-10'}, 'ruta': {'file_address': 'C:\\\\Informacion\\\\rechazos\\\\prueba\\\\Venta perdida x Cliente y ruta diaria_544_2226501744311754959.xlsx', 'received_time': '2025-06-10'}}\n"
     ]
    }
   ],
   "source": [
    "importlib.reload(dmf)\n",
    "\n",
    "# Buscar el correo más reciente con archivo Excel\n",
    "mails = outlook_folder.Items\n",
    "\n",
    "# Ordenar por fecha descendente\n",
    "mails.Sort(\"[ReceivedTime]\", True) # (mails) Es un objeto lista\n",
    "\n",
    "''' MAIL PROPERTIES\n",
    "    | (mail.Subject) (mail.ReceivedTime) (mail.SenderName)       |\n",
    "    | (mail.SenderEmailAddress) (mail.To) (mail.CC)              |\n",
    "    | (mail.Body) (mail.Attachments.Count) (mail.CreationTime)   |\n",
    "    | (mail.LastModificationTime) (mail.EntryID)                 |\n",
    "'''\n",
    "\n",
    "(\n",
    "    transportista['mail_file_address'], \n",
    "    transportista['mail_received_time'], \n",
    "    ruta['mail_file_address'], \n",
    "    ruta['mail_received_time']\n",
    ") = dmf.download_mail_files(\n",
    "    mails, \n",
    "    outlook_object_types['MailItem'],\n",
    "    root_address,\n",
    "    test_address,\n",
    "    transportista, \n",
    "    ruta\n",
    ")"
   ]
  },
  {
   "cell_type": "markdown",
   "id": "3ba78b40",
   "metadata": {},
   "source": [
    "### Establecer configuracion de documentos"
   ]
  },
  {
   "cell_type": "code",
   "execution_count": 24,
   "id": "b3d8ae6c",
   "metadata": {},
   "outputs": [
    {
     "name": "stdout",
     "output_type": "stream",
     "text": [
      "\n",
      "TRANSPORTISTA:\n",
      "name: transportista\n",
      "mail_subject: Reporte de ordenes de carga diario\n",
      "local_file_name: Cf_programadas_por_transportista.csv\n",
      "local_file_address: C:\\Informacion\\rechazos\\prueba\\Cf_programadas_por_transportista.csv\n",
      "mail_file_address: C:\\Informacion\\rechazos\\prueba\\Reporte de Guias de Distribución por FechaV3_52_6799742004499610851.xlsx\n",
      "mail_sheet_name: Guias\n",
      "mail_received_time: 2025-06-10\n",
      "date: Fecha\n",
      "date_format: dd\\/mm\\/yyyy\n",
      "\n",
      "TRANSPORTISTA RESUMEN:\n",
      "name: transportista resumen\n",
      "mail_subject: Reporte de ordenes de carga diario\n",
      "local_file_name: Cf_programadas_por_transportista_resumen.csv\n",
      "local_file_address: C:\\Informacion\\rechazos\\prueba\\Cf_programadas_por_transportista_resumen.csv\n",
      "date: Fecha\n",
      "date_format: dd\\/mm\\/yyyy\n",
      "\n",
      "RUTA:\n",
      "name: ruta\n",
      "mail_subject: Venta perdida diaria por cliente y ruta - acum mes\n",
      "local_file_name: Cf_rech_por_ruta.csv\n",
      "local_file_address: C:\\Informacion\\rechazos\\prueba\\Cf_rech_por_ruta.csv\n",
      "mail_file_address: C:\\Informacion\\rechazos\\prueba\\Venta perdida x Cliente y ruta diaria_544_2226501744311754959.xlsx\n",
      "mail_sheet_name: Motivos_VP (clte)\n",
      "mail_received_time: 2025-06-10\n",
      "date: Día\n",
      "date_format: d\\/m\\/yy\n"
     ]
    }
   ],
   "source": [
    "transportista['local_file_address'] = os.path.join(root_address+test_address, transportista['local_file_name'])\n",
    "transportista_resumen['local_file_address'] = os.path.join(root_address+test_address, transportista_resumen['local_file_name'])\n",
    "ruta['local_file_address'] = os.path.join(root_address+test_address, ruta['local_file_name'])\n",
    "\n",
    "# Configuracion de documentos\n",
    "def imprimir_diccionario(nombre, diccionario):\n",
    "    print(f'\\n{nombre.upper()}:')\n",
    "    for clave, valor in diccionario.items():\n",
    "        print(f'{clave}: {valor}')\n",
    "\n",
    "imprimir_diccionario('Transportista', transportista)\n",
    "imprimir_diccionario('Transportista Resumen', transportista_resumen)\n",
    "imprimir_diccionario('Ruta', ruta)"
   ]
  },
  {
   "cell_type": "markdown",
   "id": "0ae560c1",
   "metadata": {},
   "source": [
    "### Actualizar Transportista y Ruta"
   ]
  },
  {
   "cell_type": "code",
   "execution_count": 25,
   "id": "d2462f03",
   "metadata": {},
   "outputs": [
    {
     "name": "stdout",
     "output_type": "stream",
     "text": [
      "✅ Archivos de correo correctamente sincronizados (2025-06-10)\n",
      "[*] Procediendo con el analisis de actualizacion de archivos\n"
     ]
    },
    {
     "name": "stderr",
     "output_type": "stream",
     "text": [
      "c:\\Users\\AYACDA23\\AppData\\Local\\Programs\\Python\\Python313\\Lib\\site-packages\\openpyxl\\styles\\stylesheet.py:237: UserWarning: Workbook contains no default style, apply openpyxl's default\n",
      "  warn(\"Workbook contains no default style, apply openpyxl's default\")\n"
     ]
    },
    {
     "name": "stdout",
     "output_type": "stream",
     "text": [
      "⚠️ No hay datos nuevos en el archivo de correo 'C:\\Informacion\\rechazos\\prueba\\Reporte de Guias de Distribución por FechaV3_52_6799742004499610851.xlsx' para la hoja 'Guias'.\n"
     ]
    },
    {
     "name": "stderr",
     "output_type": "stream",
     "text": [
      "c:\\Users\\AYACDA23\\AppData\\Local\\Programs\\Python\\Python313\\Lib\\site-packages\\openpyxl\\styles\\stylesheet.py:237: UserWarning: Workbook contains no default style, apply openpyxl's default\n",
      "  warn(\"Workbook contains no default style, apply openpyxl's default\")\n"
     ]
    },
    {
     "name": "stdout",
     "output_type": "stream",
     "text": [
      "⚠️ No hay datos nuevos en el archivo de correo 'C:\\Informacion\\rechazos\\prueba\\Venta perdida x Cliente y ruta diaria_544_2226501744311754959.xlsx' para la hoja 'Motivos_VP (clte)'.\n"
     ]
    }
   ],
   "source": [
    "mail_data_is_empty = False\n",
    "\n",
    "# Verifica dos cosas\n",
    "# 1. Si ambos archivos del correo son de la misma fecha\n",
    "# 2. Que los archivos del correo no estan corruptos y que encontro informacion (es posible que sean de fechas antiguas y que ya esten registrados)\n",
    "if transportista['mail_received_time'] == ruta['mail_received_time']:\n",
    "    print(f'✅ Archivos de correo correctamente sincronizados ({transportista[\"mail_received_time\"]})')\n",
    "    print('[*] Procediendo con el analisis de actualizacion de archivos')\n",
    "    transportista_updated, transportista_data_is_empty = usf.update_local_file(transportista, locaciones, root_address, test_address, vendedores)\n",
    "    ruta_updated, ruta_data_is_empty = usf.update_local_file(ruta, locaciones, root_address, test_address, vendedores)\n",
    "    mail_data_is_empty = transportista_data_is_empty or ruta_data_is_empty\n",
    "\n",
    "else:\n",
    "    print(f\"❌ Archivos de correo no sincronizados (NO PROCEDE LA ACTUALIZACION DE ARCHIVOS)\")\n",
    "    print(f\"Archivo de transportista: {transportista['mail_received_time']}\")\n",
    "    print(f\"Archivo de ruta: {ruta['mail_received_time']}\")"
   ]
  },
  {
   "cell_type": "markdown",
   "id": "c5d2e14c",
   "metadata": {},
   "source": [
    "### Actualizar Transportista Resumen"
   ]
  },
  {
   "cell_type": "code",
   "execution_count": 26,
   "id": "179d6d35",
   "metadata": {},
   "outputs": [
    {
     "name": "stdout",
     "output_type": "stream",
     "text": [
      "❌ Archivos de correo sin informacion nueva (NO PROCEDE EL RESUMEN DE TRANSPORTISTA)\n",
      "Archivo de transportista: 2025-06-10\n",
      "Archivo de ruta: 2025-06-10\n"
     ]
    }
   ],
   "source": [
    "if mail_data_is_empty:\n",
    "    print(f\"❌ Archivos de correo sin informacion nueva (NO PROCEDE EL RESUMEN DE TRANSPORTISTA)\")\n",
    "    print(f\"Archivo de transportista: {transportista['mail_received_time']}\")\n",
    "    print(f\"Archivo de ruta: {ruta['mail_received_time']}\")\n",
    "\n",
    "else:\n",
    "    print(f'✅ Archivos de correo con informacion nueva ({transportista[\"mail_received_time\"]})')\n",
    "    print('[*] Procediendo con el resumen de transportista ...')\n",
    "    transportista_resumen_updated = utr.update_transportista_resumen_file(meta, transportista_updated)"
   ]
  },
  {
   "cell_type": "markdown",
   "id": "c9513a2d",
   "metadata": {},
   "source": [
    "### Update Files"
   ]
  },
  {
   "cell_type": "code",
   "execution_count": 27,
   "id": "63eb135c",
   "metadata": {},
   "outputs": [
    {
     "name": "stdout",
     "output_type": "stream",
     "text": [
      "❌ Archivos de correo sin informacion nueva (NO PROCEDE LA ESCRITURA DE ARCHIVOS)\n",
      "Archivo de transportista: 2025-06-10\n",
      "Archivo de ruta: 2025-06-10\n"
     ]
    }
   ],
   "source": [
    "if mail_data_is_empty:\n",
    "    print(f\"❌ Archivos de correo sin informacion nueva (NO PROCEDE LA ESCRITURA DE ARCHIVOS)\")\n",
    "    print(f\"Archivo de transportista: {transportista['mail_received_time']}\")\n",
    "    print(f\"Archivo de ruta: {ruta['mail_received_time']}\")    \n",
    "\n",
    "else:\n",
    "    print(f'✅ Archivos de correo con informacion nueva ({transportista[\"mail_received_time\"]})')\n",
    "    print('[*] Procediendo con la escritura de archivos ...')\n",
    "    usf.save_local_file_changes(transportista_updated, transportista)\n",
    "    usf.save_local_file_changes(ruta_updated, ruta)\n",
    "    usf.save_local_file_changes(transportista_resumen_updated, transportista_resumen)"
   ]
  },
  {
   "cell_type": "markdown",
   "id": "0738ee28",
   "metadata": {},
   "source": [
    "Continuar con envio de reporte?"
   ]
  },
  {
   "cell_type": "code",
   "execution_count": null,
   "id": "f1cd8bd4",
   "metadata": {},
   "outputs": [],
   "source": [
    "if transportista['mail_received_time'] == ruta['mail_received_time']:\n",
    "    continue_with_automatizaion = \"\"\n",
    "    yes = 'si'\n",
    "    year, month, day = transportista[\"mail_received_time\"].split('-')\n",
    "\n",
    "    # AQUI VERIFICAR LA FECHA, SI EL REPORTE LO HAGO UN 1 DE JULIO, NO PUEDO TOMAR JULIO COMO MES PORQUE EL REPORTE SERIA MENOR A ESE, COMPARAR LAS FECHAS\n",
    "\n",
    "    while continue_with_automatizaion.lower() != yes:\n",
    "        continue_with_automatizaion = str(input(\"¿Desea continuar con la automatización? (si/no): \"))"
   ]
  },
  {
   "cell_type": "markdown",
   "id": "1ae1cf21",
   "metadata": {},
   "source": [
    "### Captura de graficos automatizados y envio de reporte"
   ]
  },
  {
   "cell_type": "markdown",
   "id": "0d9c2d8f",
   "metadata": {},
   "source": [
    "Captura de graficos"
   ]
  },
  {
   "cell_type": "code",
   "execution_count": 31,
   "id": "85c2b4fb",
   "metadata": {},
   "outputs": [],
   "source": [
    "# Configuracion usadas para el uso de selenium y chromedriver\n",
    "METAS_Y_RESUMEN_PAGE = {\n",
    "    'page_name': 'METAS Y RESUMEN',\n",
    "    'page_url': 'https://app.powerbi.com/groups/me/reports/73309ec0-8d79-4111-ac74-acee01ed5375/ReportSectionf1e1f415e4cba9cc4035',\n",
    "    'page_graphics': {\n",
    "        1: \"% CF Rechazadas\",\n",
    "        2: \"Total CF Prog, Rech.\",\n",
    "        3: \"Resumen de Rechazos - Meta\" \n",
    "    },    \n",
    "    'filter_report_by': 'month',\n",
    "    'join_report_images': True,\n",
    "}\n",
    "DETALLES_PAGE = {\n",
    "    'page_name': 'DETALLES',\n",
    "    'page_url': 'https://app.powerbi.com/groups/me/reports/73309ec0-8d79-4111-ac74-acee01ed5375/ReportSection3f59cb816b6f52a24171',\n",
    "    'page_graphics': {\n",
    "        1: \"Detalle de Cajas Físicas Rechazadas\",\n",
    "    },    \n",
    "    'filter_report_by': 'locacion',\n",
    "    'join_report_images': False,\n",
    "}\n",
    "RECHAZOS_PAGE = {\n",
    "    'page_name': 'RECHAZOS',\n",
    "    'page_url': 'https://app.powerbi.com/groups/me/reports/73309ec0-8d79-4111-ac74-acee01ed5375/ReportSection487ba5c07a522bf0fc8c',\n",
    "    'page_graphics': {\n",
    "        1: \"% CF Rechazadas\",\n",
    "        2: \"CF Rech. por Motivo\",\n",
    "        3: \"CF Rech. por Transportista\",\n",
    "        4: \"Historico % Rechazo por día\"\n",
    "    },\n",
    "    'filter_report_by': 'locacion',\n",
    "    'join_report_images': True,\n",
    "}\n",
    "PAGES_REPORT = [METAS_Y_RESUMEN_PAGE, DETALLES_PAGE, RECHAZOS_PAGE]"
   ]
  },
  {
   "cell_type": "code",
   "execution_count": 95,
   "id": "ba0b8688",
   "metadata": {},
   "outputs": [
    {
     "name": "stdout",
     "output_type": "stream",
     "text": [
      "✅ Archivos de correo con informacion nueva (2025-06-10)\n",
      "[*] Procediendo con la captura de graficos ...\n",
      "\n",
      ".-----------------------------------------------------------------------.\n",
      "[*] Abriendo Reporte de Power BI (METAS Y RESUMEN)\n",
      "[*] Esperando a que cargue la página\n",
      "[*] Pagina cargada (9 seg de renderizado) ...\n",
      "\n",
      "Buscar por mes ...\n",
      "\n",
      "[*] Buscando el gráfico: % CF Rechazadas\n",
      "✅ Imagen guardada: METAS_Y_RESUMEN-1.png\n",
      "[*] Buscando el gráfico: Total CF Prog, Rech.\n",
      "✅ Imagen guardada: METAS_Y_RESUMEN-2.png\n",
      "[*] Buscando el gráfico: Resumen de Rechazos - Meta\n",
      "✅ Imagen guardada: METAS_Y_RESUMEN-3.png\n",
      "\n",
      "'-----------------------------------------------------------------------'\n",
      "\n",
      ".-----------------------------------------------------------------------.\n",
      "[*] Abriendo Reporte de Power BI (DETALLES)\n",
      "[*] Esperando a que cargue la página\n",
      "[*] Pagina cargada (9 seg de renderizado) ...\n",
      "\n",
      "Buscar por locacion ...\n",
      "\n",
      "* 06 AYA EL PEDREGAL *\n",
      "[✓] Click realizado en: 06 AYA EL PEDREGAL\n",
      "[*] Buscando el gráfico: Detalle de Cajas Físicas Rechazadas\n",
      "✅ Imagen guardada: DETALLES-06_AYA_EL_PEDREGAL-1.png\n",
      "[✓] Unclick realizado en: 06 AYA EL PEDREGAL\n",
      "\n",
      "* 38 AYA ATICO *\n",
      "[✓] Click realizado en: 38 AYA ATICO\n",
      "[*] Buscando el gráfico: Detalle de Cajas Físicas Rechazadas\n",
      "✅ Imagen guardada: DETALLES-38_AYA_ATICO-1.png\n",
      "[✓] Unclick realizado en: 38 AYA ATICO\n",
      "\n",
      "* 40 AYA CHALA *\n",
      "[✓] Click realizado en: 40 AYA CHALA\n",
      "[*] Buscando el gráfico: Detalle de Cajas Físicas Rechazadas\n",
      "✅ Imagen guardada: DETALLES-40_AYA_CHALA-1.png\n",
      "[✓] Unclick realizado en: 40 AYA CHALA\n",
      "\n",
      "* 88 AYA CAMANA *\n",
      "[✓] Click realizado en: 88 AYA CAMANA\n",
      "[*] Buscando el gráfico: Detalle de Cajas Físicas Rechazadas\n",
      "✅ Imagen guardada: DETALLES-88_AYA_CAMANA-1.png\n",
      "[✓] Unclick realizado en: 88 AYA CAMANA\n",
      "\n",
      "'-----------------------------------------------------------------------'\n",
      "\n",
      ".-----------------------------------------------------------------------.\n",
      "[*] Abriendo Reporte de Power BI (RECHAZOS)\n",
      "[*] Esperando a que cargue la página\n",
      "[*] Pagina cargada (9 seg de renderizado) ...\n",
      "\n",
      "Buscar por locacion ...\n",
      "\n",
      "* 06 AYA EL PEDREGAL *\n",
      "[✓] Click realizado en: 06 AYA EL PEDREGAL\n",
      "[*] Buscando el gráfico: % CF Rechazadas\n",
      "✅ Imagen guardada: RECHAZOS-06_AYA_EL_PEDREGAL-1.png\n",
      "[*] Buscando el gráfico: CF Rech. por Motivo\n",
      "✅ Imagen guardada: RECHAZOS-06_AYA_EL_PEDREGAL-2.png\n",
      "[*] Buscando el gráfico: CF Rech. por Transportista\n",
      "✅ Imagen guardada: RECHAZOS-06_AYA_EL_PEDREGAL-3.png\n",
      "[*] Buscando el gráfico: Historico % Rechazo por día\n",
      "✅ Imagen guardada: RECHAZOS-06_AYA_EL_PEDREGAL-4.png\n",
      "[✓] Unclick realizado en: 06 AYA EL PEDREGAL\n",
      "\n",
      "* 38 AYA ATICO *\n",
      "[✓] Click realizado en: 38 AYA ATICO\n",
      "[*] Buscando el gráfico: % CF Rechazadas\n",
      "✅ Imagen guardada: RECHAZOS-38_AYA_ATICO-1.png\n",
      "[*] Buscando el gráfico: CF Rech. por Motivo\n",
      "✅ Imagen guardada: RECHAZOS-38_AYA_ATICO-2.png\n",
      "[*] Buscando el gráfico: CF Rech. por Transportista\n",
      "✅ Imagen guardada: RECHAZOS-38_AYA_ATICO-3.png\n",
      "[*] Buscando el gráfico: Historico % Rechazo por día\n",
      "✅ Imagen guardada: RECHAZOS-38_AYA_ATICO-4.png\n",
      "[✓] Unclick realizado en: 38 AYA ATICO\n",
      "\n",
      "* 40 AYA CHALA *\n",
      "[✓] Click realizado en: 40 AYA CHALA\n",
      "[*] Buscando el gráfico: % CF Rechazadas\n",
      "✅ Imagen guardada: RECHAZOS-40_AYA_CHALA-1.png\n",
      "[*] Buscando el gráfico: CF Rech. por Motivo\n",
      "✅ Imagen guardada: RECHAZOS-40_AYA_CHALA-2.png\n",
      "[*] Buscando el gráfico: CF Rech. por Transportista\n",
      "✅ Imagen guardada: RECHAZOS-40_AYA_CHALA-3.png\n",
      "[*] Buscando el gráfico: Historico % Rechazo por día\n",
      "✅ Imagen guardada: RECHAZOS-40_AYA_CHALA-4.png\n",
      "[✓] Unclick realizado en: 40 AYA CHALA\n",
      "\n",
      "* 88 AYA CAMANA *\n",
      "[✓] Click realizado en: 88 AYA CAMANA\n",
      "[*] Buscando el gráfico: % CF Rechazadas\n",
      "✅ Imagen guardada: RECHAZOS-88_AYA_CAMANA-1.png\n",
      "[*] Buscando el gráfico: CF Rech. por Motivo\n",
      "✅ Imagen guardada: RECHAZOS-88_AYA_CAMANA-2.png\n",
      "[*] Buscando el gráfico: CF Rech. por Transportista\n",
      "✅ Imagen guardada: RECHAZOS-88_AYA_CAMANA-3.png\n",
      "[*] Buscando el gráfico: Historico % Rechazo por día\n",
      "✅ Imagen guardada: RECHAZOS-88_AYA_CAMANA-4.png\n",
      "[✓] Unclick realizado en: 88 AYA CAMANA\n",
      "\n",
      "'-----------------------------------------------------------------------'\n"
     ]
    }
   ],
   "source": [
    "importlib.reload(pb_automate)\n",
    "if mail_data_is_empty:\n",
    "    print(f\"❌ Archivos de correo sin informacion nueva (NO PROCEDE LA CAPTURA DE GRAFICOS)\")\n",
    "    print(f\"Archivo de transportista: {transportista['mail_received_time']}\")\n",
    "    print(f\"Archivo de ruta: {ruta['mail_received_time']}\")\n",
    "\n",
    "else:\n",
    "    # Automatizacion de capturas de graficos del powerbi\n",
    "    print(f'✅ Archivos de correo con informacion nueva ({transportista[\"mail_received_time\"]})')\n",
    "    print('[*] Procediendo con la captura de graficos ...')\n",
    "    pb_automate.powerbi_graphics_capture(locaciones, PAGES_REPORT)"
   ]
  },
  {
   "cell_type": "markdown",
   "id": "2bc4f930",
   "metadata": {},
   "source": [
    "Generar reporte en HTML"
   ]
  },
  {
   "cell_type": "code",
   "execution_count": 33,
   "id": "d9e02242",
   "metadata": {},
   "outputs": [
    {
     "name": "stdout",
     "output_type": "stream",
     "text": [
      "{'06 AYA EL PEDREGAL': {'locacion': '06 AYA EL PEDREGAL', 'porcentaje_cf': '1.21%', 'venta_perdida_cf': 254.18, 'carga_total': 21037.110999999997}, '38 AYA ATICO': {'locacion': '38 AYA ATICO', 'porcentaje_cf': '0.00%', 'venta_perdida_cf': 0.0, 'carga_total': 5093.733}, '40 AYA CHALA': {'locacion': '40 AYA CHALA', 'porcentaje_cf': '0.49%', 'venta_perdida_cf': 77.89999999999999, 'carga_total': 15826.761999999999}, '88 AYA CAMANA': {'locacion': '88 AYA CAMANA', 'porcentaje_cf': '0.94%', 'venta_perdida_cf': 143.45, 'carga_total': 15283.755999999998}}\n"
     ]
    }
   ],
   "source": [
    "importlib.reload(smr)\n",
    "importlib.reload(aos)\n",
    "\n",
    "# if mail_data_is_empty:\n",
    "#     print(f\"❌ Archivos de correo no sincronizados (NO PROCEDE LA CAPTURA DE GRAFICOS)\")\n",
    "#     print(f\"Archivo de transportista: {transportista['mail_received_time']}\")\n",
    "#     print(f\"Archivo de ruta: {ruta['mail_received_time']}\")    \n",
    "\n",
    "# else:\n",
    "#     # Automatizacion de capturas de graficos del powerbi\n",
    "#     print(f'✅ Archivos de correo correctamente sincronizados ({transportista[\"mail_received_time\"]})')\n",
    "#     print('[*] Procediendo con el tratamiento de datos html')\n",
    "#     calculations = aos.make_calculations_for_locations(root_address, test_address, locaciones, transportista, ruta, month, year)\n",
    "#     sedes = smr.build_sedes_lista(locaciones, calculations)\n",
    "\n",
    "#     total = 0\n",
    "#     for x, y in calculations.items():\n",
    "#         total = total + y['total_cf']\n",
    "        \n",
    "#     smr.insert_updated_information(sedes, month, year, total, months)\n",
    "\n",
    "calculations = aos.make_calculations_for_locations(root_address, test_address, locaciones, transportista, ruta, month, year)\n",
    "print(calculations)"
   ]
  },
  {
   "cell_type": "markdown",
   "id": "3a6d17d4",
   "metadata": {},
   "source": [
    "Envio de reportes"
   ]
  },
  {
   "cell_type": "code",
   "execution_count": null,
   "id": "a0fbf103",
   "metadata": {},
   "outputs": [],
   "source": [
    "import win32com.client\n",
    "from bs4 import BeautifulSoup\n",
    "\n",
    "# Crear instancia de Outlook\n",
    "outlook = win32com.client.Dispatch(\"Outlook.Application\")\n",
    "mail = outlook.CreateItem(0) # 0 = MailItem\n",
    "\n",
    "# Leer el archivo HTML\n",
    "with open(f'{mail_report_folder_address}/index.html', \"r\", encoding=\"utf-8\") as f:\n",
    "    html_body = f.read()\n",
    "\n",
    "soup = BeautifulSoup(html_body, \"html.parser\")\n",
    "\n",
    "# Embebe todas las imágenes antes de guardar o enviar\n",
    "smr.embedir_imagenes_en_html(soup, mail, ruta_base_imagenes=os.path.join(project_address, mail_report_folder_address))\n",
    "\n",
    "# Guardar o usar el HTML final\n",
    "html_body = str(soup)\n",
    "\n",
    "# Asunto\n",
    "mail.Subject = \"Seguimiento de Rechazos 10/06/2025\"\n",
    "# Destinatarios principales\n",
    "mail.To = \"admpedregal@ayacda.com;admcamana@ayacda.com;admchala@ayacda.com;admatico@ayacda.com;suppedregal@ayacda.com;supcamana@ayacda.com;supchalatico@ayacda.com;rgallegos@aclogistica.pe;admcamana@ayacda.com;suppedregal@ayacda.com;admpedregal@ayacda.com;suplajoya@ayacda.com;gersrpb@gmail.com; gportocarrerob@unsa.edu.pe;\"\n",
    "#mail.To = 'gportocarrerob@unsa.edu.pe'\n",
    "# Con copia (CC)\n",
    "mail.CC = \"contabilidad@ayacda.com; adm@ayacda.com; gcamana@ayacda.com\"\n",
    "# Cuerpo en HTML\n",
    "mail.HTMLBody = html_body\n",
    "\n",
    "# (Opcional) Agregar archivo adjunto\n",
    "# mail.Attachments.Add(\"C:\\\\ruta\\\\al\\\\archivo.pdf\")\n",
    "\n",
    "# Enviar el correo\n",
    "mail.Send()\n"
   ]
  }
 ],
 "metadata": {
  "kernelspec": {
   "display_name": "Python 3",
   "language": "python",
   "name": "python3"
  },
  "language_info": {
   "codemirror_mode": {
    "name": "ipython",
    "version": 3
   },
   "file_extension": ".py",
   "mimetype": "text/x-python",
   "name": "python",
   "nbconvert_exporter": "python",
   "pygments_lexer": "ipython3",
   "version": "3.13.3"
  }
 },
 "nbformat": 4,
 "nbformat_minor": 5
}
