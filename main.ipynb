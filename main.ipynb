{
 "cells": [
  {
   "cell_type": "markdown",
   "id": "d869f857",
   "metadata": {},
   "source": [
    "### Importaciones"
   ]
  },
  {
   "cell_type": "code",
   "execution_count": 53,
   "id": "163cd28c",
   "metadata": {},
   "outputs": [],
   "source": [
    "# Paquetes necesarios para la ejecución del notebook\n",
    "import win32com.client\n",
    "import os\n",
    "from datetime import datetime\n",
    "import pandas as pd\n",
    "import shutil\n",
    "import openpyxl\n",
    "from openpyxl import load_workbook\n",
    "from openpyxl.workbook import Workbook\n",
    "from copy import copy\n",
    "from openpyxl.utils import get_column_letter, column_index_from_string\n",
    "import polars as pl\n",
    "import math\n",
    "import update_file as uf\n",
    "import subprocess\n",
    "import pyautogui\n",
    "import time\n",
    "import pygetwindow as gw\n",
    "from msal import ConfidentialClientApplication\n",
    "import requests\n",
    "from selenium import webdriver\n",
    "from selenium.webdriver.chrome.options import Options\n",
    "from selenium.webdriver.common.by import By\n",
    "from PIL import Image\n",
    "import time\n",
    "from selenium.webdriver.support.ui import WebDriverWait\n",
    "from selenium.webdriver.support import expected_conditions as EC\n",
    "from selenium.webdriver.common.keys import Keys"
   ]
  },
  {
   "cell_type": "markdown",
   "id": "1ef3e61e",
   "metadata": {},
   "source": [
    "### Configuracion"
   ]
  },
  {
   "cell_type": "code",
   "execution_count": 54,
   "id": "61fdc76a",
   "metadata": {},
   "outputs": [
    {
     "name": "stderr",
     "output_type": "stream",
     "text": [
      "<>:151: SyntaxWarning: invalid escape sequence '\\/'\n",
      "<>:158: SyntaxWarning: invalid escape sequence '\\/'\n",
      "<>:168: SyntaxWarning: invalid escape sequence '\\/'\n",
      "<>:151: SyntaxWarning: invalid escape sequence '\\/'\n",
      "<>:158: SyntaxWarning: invalid escape sequence '\\/'\n",
      "<>:168: SyntaxWarning: invalid escape sequence '\\/'\n",
      "C:\\Users\\AYACDA23\\AppData\\Local\\Temp\\ipykernel_14060\\361112561.py:151: SyntaxWarning: invalid escape sequence '\\/'\n",
      "  \"date_format\": \"dd\\/mm\\/yyyy\",\n",
      "C:\\Users\\AYACDA23\\AppData\\Local\\Temp\\ipykernel_14060\\361112561.py:158: SyntaxWarning: invalid escape sequence '\\/'\n",
      "  \"date_format\": \"dd\\/mm\\/yyyy\",\n",
      "C:\\Users\\AYACDA23\\AppData\\Local\\Temp\\ipykernel_14060\\361112561.py:168: SyntaxWarning: invalid escape sequence '\\/'\n",
      "  \"date_format\": \"d\\/m\\/yy\",\n"
     ]
    }
   ],
   "source": [
    "# Constantes usadas en el notebook\n",
    "MAPI = \"MAPI\" # Messaging Application Programming Interface\n",
    "DOT = \".\"\n",
    "OUTLOOK = \"Outlook\"\n",
    "APPLICATION = \"Application\"\n",
    "MAIL_ITEM_CODE = 43\n",
    "\n",
    "# Diccionarios\n",
    "outlook_folder_codes = {\n",
    "    0: 'Calendario',\n",
    "    1: 'Contactos',\n",
    "    2: 'Borradores',\n",
    "    3: 'Diario / Jornal',\n",
    "    4: 'Notas',\n",
    "    5: 'Tareas',\n",
    "    6: 'Bandeja de entrada',\n",
    "    7: 'Bandeja de salida',\n",
    "    8: 'Elementos enviados',\n",
    "    9: 'Elementos eliminados',\n",
    "    10: 'Bandeja de correo del servidor',\n",
    "    11: 'Conflictos',\n",
    "    12: 'Elementos de sincronizacion local',\n",
    "    13: 'Elementos de sincronizacion (Envio)',\n",
    "    14: 'Elementos de sincronización (Recibo)',\n",
    "    15: 'Elementos de sincronización completa',\n",
    "    16: 'Diario de formularios',\n",
    "    17: 'Carpeta de búsqueda',\n",
    "    18: 'Bandeja para reglas cliente',\n",
    "    19: 'Carpeta de sugerencias de correo',\n",
    "}\n",
    "parse_locaciones = {\n",
    "    '06 AYA EL PEDREGAL': 'El Pedregal',\n",
    "    '38 AYA ATICO': 'Atico',\n",
    "    '40 AYA CHALA': 'Chala',\n",
    "    '88 AYA CAMANA': 'Camana'\n",
    "}\n",
    "meta = {\n",
    "    '06 AYA EL PEDREGAL': {\n",
    "        2023: {1: 0.7, 2: 0.7, 3: 0.7, 4: 0.7, 5: 0.7, 6: 0.7, 7: 0.7, 8:0.7, 9:0.7, 10:0.7, 11:0.7, 12:0.7},\n",
    "        2024: {1: 1.2, 2: 1.2, 3: 1.2, 4: 1, 5: 1, 6: 1, 7: 1, 8: 1, 9: 1, 10: 1, 11: 1, 12: 1},\n",
    "        2025: {1: 0.88, 2: 0.88, 3: 0.88, 4: 0.88, 5: 0.98, 6: 0.88, 7: 0, 8: 0, 9: 0, 10: 0, 11: 0, 12: 0},\n",
    "    },\n",
    "    '38 AYA ATICO': {\n",
    "        2023: {1: 0.7, 2: 0.7, 3: 0.7, 4: 0.7, 5: 0.7, 6: 0.7, 7: 0.7, 8:0.7, 9:0.7, 10:0.7, 11:0.7, 12:0.7},\n",
    "        2024: {1: 0.4, 2: 0.4, 3: 0.4, 4: 0.48, 5: 0.48, 6: 0.48, 7: 0.48, 8: 0.48, 9: 0.48, 10: 0.48, 11: 0.48, 12: 0.48},\n",
    "        2025: {1: 0.24, 2: 0.24, 3: 0.24, 4: 0.24, 5: 0.24, 6: 0.24, 7: 0, 8: 0, 9: 0, 10: 0, 11: 0, 12: 0},\n",
    "    },\n",
    "    '40 AYA CHALA': {\n",
    "        2023: {1: 0.7, 2: 0.7, 3: 0.7, 4: 0.7, 5: .7, 6: 0.7, 7: 0.7, 8:0.7, 9:0.7, 10:0.7, 11:0.7, 12:0.7},\n",
    "        2024: {1: 0.5, 2: 0.5, 3: 0.5, 4: 0.60, 5: 0.60, 6: 0.60, 7: 0.60, 8: 0.60, 9: 0.60, 10: 0.60, 11: 0.60, 12: 0.60},\n",
    "        2025: {1: 0.31, 2: 0.31, 3: 0.31, 4: 0.31, 5: 0.31, 6: 0.31, 7: 0, 8: 0, 9: 0, 10: 0, 11: 0, 12: 0},\n",
    "    },\n",
    "    '88 AYA CAMANA': {\n",
    "        2023: {1: 0.7, 2: 0.7, 3: 0.7, 4: 0.7, 5: 0.7, 6: 0.7, 7: 0.7, 8:0.7, 9:0.7, 10:0.7, 11:0.7, 12:0.7},\n",
    "        2024: {1: 0.85, 2: 0.85, 3: 0.85, 4: 0.85, 5: 0.85, 6: 0.85, 7: 0.85, 8: 0.85, 9: 0.85, 10: 0.85, 11: 0.85, 12: 0.85},\n",
    "        2025: {1: 0.57, 2: 0.57, 3: 0.57, 4: 0.57, 5: 0.57, 6: 0.57, 7: 0, 8: 0, 9: 0, 10: 0, 11: 0, 12: 0},\n",
    "    }\n",
    "}\n",
    "vendedores = {\n",
    "    '06 AYA EL PEDREGAL': {\n",
    "        '0000001013': 'AYALA CCAHUANA EDMUNDO',\n",
    "        '0000001006': 'BARRAZA REVILLA FREDY',\n",
    "        '0000001000': 'CARDENAS CHOQUECAJIA WHITNEY AWARD',\n",
    "        '0000001001': 'CHARA ROJAS GISELA SOLEDAD',\n",
    "        '0000001007': 'CHINO QUISPE JORGE LUIS',\n",
    "        '0000006014': 'EDWAR QUISPE CHINO',\n",
    "        '0000006009': 'GALLARDO HUAYLLA RENATO LEUTERIO',\n",
    "        '0000006003': 'GALLEGOS NUÑEZ JUAN FREDY',\n",
    "        '0000005999': 'GESTOR VIRTUAL',\n",
    "        '0000001010': 'HUANCA MAMANI JACKSON',\n",
    "        '0000006006': 'HUAYCHO TORRES ULBER',\n",
    "        '0000006005': 'HUAYCHO TORRES ULBER',\n",
    "        '0000001012': 'HUAYLLAZO HUACCHA CRISTHIAN PAOLO',\n",
    "        '0000006012': 'NELSON RAUL CONZA CHARCA',\n",
    "        '0000001002': 'PACHECO CONDORI ANDRES OSCAR',\n",
    "        '0000001011': 'QUISPE CHINO WILIAN YURI',\n",
    "        '0000001004': 'QUISPE HUAYLLA MARISOL S.',\n",
    "        '0000006013': 'RONALD GONZALO HUILLCA MAMANI',\n",
    "        '0000001003': 'TACO XESSPE KELY SOFIA',\n",
    "        '0000001005': 'VALDERRAMA ELLIS JESSICA A.',\n",
    "        '0000001008': 'VEND NVA RUTA 10',\n",
    "        '0000001009': 'YUCRA JIMENEZ ANA LUZ',\n",
    "        '0000001014': 'CHARA ROJAS GISELA SOLEDAD',\n",
    "        '0000001015': 'BARRAZA REVILLA FREDY',\n",
    "        '0000001019': 'BATALLANOS SANCA RODRIGO LEOPOLDO',\n",
    "        '0000001016': 'PARI PUCHO FREDY OSWALDO',\n",
    "        '0000001017': 'COAGUILLA MAMANI JOSE ALBERTO',\n",
    "        '0000001018': 'ORTEGA MAMANI JORGE LUIS'\n",
    "    },\n",
    "    '38 AYA ATICO': {\n",
    "        '0000001001': 'ALANYA RAMIREZ FERNANDO JOSUE',\n",
    "        '0000005999': 'GESTOR VIRTUAL',\n",
    "        '0000001000': 'SAUL ANDRES VIÑA VIZCARDO'\n",
    "    },\n",
    "    '40 AYA CHALA': {\n",
    "        '0000001004': 'CANALES AGUILAR HILBERTO',\n",
    "        '0000001007': 'CHIPANA JURADO JHORS EDUARDO',\n",
    "        '0000006010': 'DIONICIO DANIEL HUARCAYA SALAZAR',\n",
    "        '0000005999': 'GESTOR VIRTUAL',\n",
    "        '0000006009': 'GLOBER FELIPE JARA MAQUER',\n",
    "        '0000006005': 'GONZALES CHURA MAGNO ALFREDO',\n",
    "        '0000001000': 'HERRERA TAPIA EDWIN DONATO',\n",
    "        '0000006002': 'JARA CARAZAS RODOLFO JOSUE.L',\n",
    "        '0000006007': 'JUAN CARLOS ARIAS BENITES',\n",
    "        '0000001003': 'MAMANI TINTAYA KRISTHOFER',\n",
    "        '0000001006': 'MAMANI TINTAYA KRISTHOFER',\n",
    "        '0000001005': 'QUISE CCAPA EVER',\n",
    "        '0000001002': 'RODRIGUEZ JOSE ANTONIO',\n",
    "        '0000001001': 'VENDEDOR RT M1'        \n",
    "    },\n",
    "    '88 AYA CAMANA': {\n",
    "        '0000001007': 'AUCAHUAQUI REVILLA DANIEL HITLER',\n",
    "        '0000001011': 'CARAZAS REZA LUIS ALBERTO',\n",
    "        '0000001003': 'CONDORCHOA SIERRA NEMECIO',\n",
    "        '0000006001': 'CONDORCHOA SIERRA NEMESIO JESUS',\n",
    "        '0000006002': 'DE LA CRUZ CALCINA ELAR',\n",
    "        '0000006010': 'EDILBERTO RAMIREZ LARICO',\n",
    "        '0000005999': 'GESTOR VIRTUAL',\n",
    "        '0000001002': 'HUAMANI RODRIGUEZ YONATAN ANYIMZAN',\n",
    "        '0000006011': 'JAIME CHAVEZ CONDORI',\n",
    "        '0000001005': 'LLERENA DE LA CRUZ RICARDO SNEIDER',\n",
    "        '0000001004': 'MEDINA VELASQUEZ JAVIER ENRIQUE',\n",
    "        '0000006014': 'MOISES RICHARD CONDORCHOA SIERRA',\n",
    "        '0000001008': 'MOLLO YUPANQUI JOSE OMAR',\n",
    "        '0000001001': 'NO APLICA VENDEDOR',\n",
    "        '0000006008': 'QUISPE CCACHUCO FREDY',\n",
    "        '0000001010': 'RAMOS MAMANI RUBEN',\n",
    "        '0000006016': 'RENATO ELEUTERIO GALLARADO HUAYLLA',\n",
    "        '0000001006': 'SACARI CHOQUEHUANCA WILSON',\n",
    "        '0000001000': 'SALAZAR HUAMANI SAUL ANTONIO',\n",
    "        '0000001012': 'VEND RT X1',\n",
    "        '0000001009': 'VIZCARDO BUSTAMANTE ALBERTH FRANCK'\n",
    "    }\n",
    "}\n",
    "\n",
    "# Listas\n",
    "locaciones = ['06 AYA EL PEDREGAL', '38 AYA ATICO', '40 AYA CHALA', '88 AYA CAMANA']\n",
    "\n",
    "# Variables de configuracion\n",
    "root_address = r'C:\\Informacion\\rechazos' # Direcccion de carpeta raiz\n",
    "test_address = r'\\prueba'\n",
    "backup_address = r'\\backup'\n",
    "transportista = {\n",
    "    \"mail_subject\": \"Reporte de ordenes de carga diario\",         # Nombre del asunto de correo\n",
    "    \"local_file_name\": \"Cf_programadas_por_transportista.csv\",    # Nombre del archivo local\n",
    "    \"local_file_address\": \"\",                                     # Direccion del archivo local\n",
    "    \"mail_file_address\": \"\",                                      # Direccion del archivo del correo\n",
    "    \"mail_sheet_name\": \"Guias\",\n",
    "    \"mail_received_time\": \"\",\n",
    "    \"date\": \"Fecha\",\n",
    "    \"date_format\": \"dd\\/mm\\/yyyy\",\n",
    "}\n",
    "transportista_resumen = {\n",
    "    \"mail_subject\": \"Reporte de ordenes de carga diario\",                 # Nombre del asunto de correo\n",
    "    \"local_file_name\": \"Cf_programadas_por_transportista_resumen.csv\",    # Nombre del archivo local\n",
    "    \"local_file_address\": \"\",                                             # Direccion del archivo local\n",
    "    \"date\": \"Fecha\",\n",
    "    \"date_format\": \"dd\\/mm\\/yyyy\",\n",
    "}\n",
    "ruta = {\n",
    "    \"mail_subject\": \"Venta perdida diaria por cliente y ruta - acum mes\",   # Nombre del asunto de correo\n",
    "    \"local_file_name\": \"Cf_rech_por_ruta.csv\",                              # Nombre del archivo local\n",
    "    \"local_file_address\": \"\",                                               # Direccion del archivo local\n",
    "    \"mail_file_address\": \"\",                                                # Direccion del archivo del correo\n",
    "    \"mail_sheet_name\": \"Motivos_VP (clte)\",\n",
    "    \"mail_received_time\": \"\",\n",
    "    \"date\": \"Día\",\n",
    "    \"date_format\": \"d\\/m\\/yy\",\n",
    "}"
   ]
  },
  {
   "cell_type": "markdown",
   "id": "b058bcf2",
   "metadata": {},
   "source": [
    "### Obtener correos de outlook"
   ]
  },
  {
   "cell_type": "code",
   "execution_count": 55,
   "id": "127123ae",
   "metadata": {},
   "outputs": [
    {
     "name": "stdout",
     "output_type": "stream",
     "text": [
      "Tipo de folder:  Bandeja de entrada\n"
     ]
    }
   ],
   "source": [
    "# Conectar a Outlook\n",
    "#outlook_folder_code = int(input(f'{\" \".join([\"(\" + str(key) + \": \" + value + \")\" for key, value in outlook_folder_codes.items()])}'))\n",
    "outlook = win32com.client.Dispatch(OUTLOOK+DOT+APPLICATION).GetNamespace(MAPI)\n",
    "\n",
    "outlook_folder = outlook.GetDefaultFolder(6)\n",
    "print(\"Tipo de folder: \", outlook_folder)"
   ]
  },
  {
   "cell_type": "markdown",
   "id": "8adb2ea7",
   "metadata": {},
   "source": [
    "### Guardar archivo de outlook"
   ]
  },
  {
   "cell_type": "code",
   "execution_count": 56,
   "id": "af8303c0",
   "metadata": {},
   "outputs": [
    {
     "name": "stderr",
     "output_type": "stream",
     "text": [
      "c:\\Users\\AYACDA23\\AppData\\Local\\Programs\\Python\\Python313\\Lib\\site-packages\\openpyxl\\styles\\stylesheet.py:237: UserWarning: Workbook contains no default style, apply openpyxl's default\n",
      "  warn(\"Workbook contains no default style, apply openpyxl's default\")\n"
     ]
    },
    {
     "name": "stdout",
     "output_type": "stream",
     "text": [
      "Archivo 'Reporte de Guias de Distribución por FechaV3_53_9035756698100090800.xlsx' con fecha 2025-06-02 08:38:34+00:00 está vacío, eliminando...\n"
     ]
    },
    {
     "name": "stderr",
     "output_type": "stream",
     "text": [
      "c:\\Users\\AYACDA23\\AppData\\Local\\Programs\\Python\\Python313\\Lib\\site-packages\\openpyxl\\styles\\stylesheet.py:237: UserWarning: Workbook contains no default style, apply openpyxl's default\n",
      "  warn(\"Workbook contains no default style, apply openpyxl's default\")\n",
      "c:\\Users\\AYACDA23\\AppData\\Local\\Programs\\Python\\Python313\\Lib\\site-packages\\openpyxl\\styles\\stylesheet.py:237: UserWarning: Workbook contains no default style, apply openpyxl's default\n",
      "  warn(\"Workbook contains no default style, apply openpyxl's default\")\n"
     ]
    },
    {
     "name": "stdout",
     "output_type": "stream",
     "text": [
      "Archivo 'Venta perdida x Cliente y ruta diaria_3136_3712873636512649727.xlsx' con fecha 2025-06-02 08:39:00+00:00 está vacío, eliminando...\n"
     ]
    },
    {
     "name": "stderr",
     "output_type": "stream",
     "text": [
      "c:\\Users\\AYACDA23\\AppData\\Local\\Programs\\Python\\Python313\\Lib\\site-packages\\openpyxl\\styles\\stylesheet.py:237: UserWarning: Workbook contains no default style, apply openpyxl's default\n",
      "  warn(\"Workbook contains no default style, apply openpyxl's default\")\n"
     ]
    }
   ],
   "source": [
    "# Buscar el correo más reciente con archivo Excel\n",
    "mails = outlook_folder.Items\n",
    "\n",
    "# Ordenar por fecha descendente\n",
    "mails.Sort(\"[ReceivedTime]\", True) # (mails) Es un objeto lista\n",
    "\n",
    "''' MAIL PROPERTIES\n",
    "    mail.Subject\n",
    "    mail.ReceivedTime\n",
    "    mail.SenderName\n",
    "    mail.SenderEmailAddress\n",
    "    mail.To\n",
    "    mail.CC\n",
    "    mail.Body\n",
    "    mail.Attachments.Count\n",
    "    mail.CreationTime\n",
    "    mail.LastModificationTime\n",
    "    mail.EntryID\n",
    "'''\n",
    "\n",
    "# Descargar archivos Excel de los correos\n",
    "def download_excel_file(mails, mail_subject, mail_sheet_name):\n",
    "    for mail in mails: # Recorrer todos los correos\n",
    "        if mail.Class != MAIL_ITEM_CODE: # Asegurar que el correo sea un MailItem (otros pueden ser calendario, alertas, etc)\n",
    "            continue\n",
    "        \n",
    "        if (mail_subject.lower() in mail.Subject.lower()) & (mail.Attachments.Count > 0):\n",
    "            for attachment in mail.Attachments:\n",
    "                if attachment.FileName.endswith((\".xlsx\", \".xls\")):\n",
    "                    file_name = attachment.FileName\n",
    "                    file_address = os.path.join(root_address+test_address, file_name)\n",
    "                    attachment.SaveAsFile(file_address)\n",
    "\n",
    "                    # Validar si hay que revisar una hoja\n",
    "                    if mail_sheet_name:\n",
    "                        try:\n",
    "                            # Cargar solo la hoja específica\n",
    "                            df = pd.read_excel(file_address, sheet_name=mail_sheet_name, header=None)\n",
    "                            df = uf.clean_mail_file(df)\n",
    "\n",
    "                            # Eliminar filas que están completamente vacías\n",
    "                            df_clean = df.dropna(how='all')\n",
    "\n",
    "                            # Si la hoja esta completamente vacía, eliminar el archivo\n",
    "                            if df.empty:\n",
    "                                print(f\"Archivo '{file_name}' con fecha {mail.ReceivedTime} está vacío, eliminando...\")\n",
    "                                os.remove(file_address)\n",
    "                                continue\n",
    "                            \n",
    "                            # Si no hay datos pero si encabezados, eliminar el archivo\n",
    "                            elif df_clean.shape[0] == 0:\n",
    "                                print(f\"Archivo '{file_name}' con fecha {mail.ReceivedTime} está vacío, eliminando...\")\n",
    "                                os.remove(file_address)\n",
    "                                continue\n",
    "\n",
    "                        except Exception as e:\n",
    "                            print(f\"Error leyendo hoja '{mail_sheet_name}' en {file_name}: {e}\")\n",
    "                            continue\n",
    "\n",
    "                    # Si pasó las validaciones, devolver                    \n",
    "                    return file_address, mail.ReceivedTime\n",
    "\n",
    "transportista['mail_file_address'], transportista['mail_received_time'] = download_excel_file(mails, transportista['mail_subject'], transportista['mail_sheet_name'])\n",
    "ruta['mail_file_address'], ruta['mail_received_time'] = download_excel_file(mails, ruta['mail_subject'], ruta['mail_sheet_name'])"
   ]
  },
  {
   "cell_type": "markdown",
   "id": "3ba78b40",
   "metadata": {},
   "source": [
    "### Establecer configuracion de documentos"
   ]
  },
  {
   "cell_type": "code",
   "execution_count": 57,
   "id": "b3d8ae6c",
   "metadata": {},
   "outputs": [
    {
     "name": "stdout",
     "output_type": "stream",
     "text": [
      "\n",
      "TRANSPORTISTA:\n",
      "mail_subject: Reporte de ordenes de carga diario\n",
      "local_file_name: Cf_programadas_por_transportista.csv\n",
      "local_file_address: C:\\Informacion\\rechazos\\prueba\\Cf_programadas_por_transportista.csv\n",
      "mail_file_address: C:\\Informacion\\rechazos\\prueba\\Reporte de Guias de Distribución por FechaV3_54_563490388953043607.xlsx\n",
      "mail_sheet_name: Guias\n",
      "mail_received_time: 2025-06-01 08:24:56+00:00\n",
      "date: Fecha\n",
      "date_format: dd\\/mm\\/yyyy\n",
      "\n",
      "TRANSPORTISTA RESUMEN:\n",
      "mail_subject: Reporte de ordenes de carga diario\n",
      "local_file_name: Cf_programadas_por_transportista_resumen.csv\n",
      "local_file_address: C:\\Informacion\\rechazos\\prueba\\Cf_programadas_por_transportista_resumen.csv\n",
      "date: Fecha\n",
      "date_format: dd\\/mm\\/yyyy\n",
      "\n",
      "RUTA:\n",
      "mail_subject: Venta perdida diaria por cliente y ruta - acum mes\n",
      "local_file_name: Cf_rech_por_ruta.csv\n",
      "local_file_address: C:\\Informacion\\rechazos\\prueba\\Cf_rech_por_ruta.csv\n",
      "mail_file_address: C:\\Informacion\\rechazos\\prueba\\Venta perdida x Cliente y ruta diaria_1128_6544381617250754382.xlsx\n",
      "mail_sheet_name: Motivos_VP (clte)\n",
      "mail_received_time: 2025-06-01 08:21:15+00:00\n",
      "date: Día\n",
      "date_format: d\\/m\\/yy\n"
     ]
    }
   ],
   "source": [
    "transportista['local_file_address'] = os.path.join(root_address+test_address, transportista['local_file_name'])\n",
    "transportista_resumen['local_file_address'] = os.path.join(root_address+test_address, transportista_resumen['local_file_name'])\n",
    "ruta['local_file_address'] = os.path.join(root_address+test_address, ruta['local_file_name'])\n",
    "\n",
    "# Configuracion de documentos\n",
    "def imprimir_diccionario(nombre, diccionario):\n",
    "    print(f'\\n{nombre.upper()}:')\n",
    "    for clave, valor in diccionario.items():\n",
    "        print(f'{clave}: {valor}')\n",
    "\n",
    "imprimir_diccionario('Transportista', transportista)\n",
    "imprimir_diccionario('Transportista Resumen', transportista_resumen)\n",
    "imprimir_diccionario('Ruta', ruta)"
   ]
  },
  {
   "cell_type": "markdown",
   "id": "0ae560c1",
   "metadata": {},
   "source": [
    "### Actualizar Transportista y Ruta"
   ]
  },
  {
   "cell_type": "code",
   "execution_count": 58,
   "id": "d2462f03",
   "metadata": {},
   "outputs": [
    {
     "name": "stderr",
     "output_type": "stream",
     "text": [
      "c:\\Users\\AYACDA23\\AppData\\Local\\Programs\\Python\\Python313\\Lib\\site-packages\\openpyxl\\styles\\stylesheet.py:237: UserWarning: Workbook contains no default style, apply openpyxl's default\n",
      "  warn(\"Workbook contains no default style, apply openpyxl's default\")\n"
     ]
    },
    {
     "name": "stdout",
     "output_type": "stream",
     "text": [
      "⚠️ No hay datos nuevos en el archivo de correo 'C:\\Informacion\\rechazos\\prueba\\Reporte de Guias de Distribución por FechaV3_54_563490388953043607.xlsx' para la hoja 'Guias'.\n"
     ]
    },
    {
     "name": "stderr",
     "output_type": "stream",
     "text": [
      "c:\\Users\\AYACDA23\\AppData\\Local\\Programs\\Python\\Python313\\Lib\\site-packages\\openpyxl\\styles\\stylesheet.py:237: UserWarning: Workbook contains no default style, apply openpyxl's default\n",
      "  warn(\"Workbook contains no default style, apply openpyxl's default\")\n"
     ]
    },
    {
     "name": "stdout",
     "output_type": "stream",
     "text": [
      "⚠️ No hay datos nuevos en el archivo de correo 'C:\\Informacion\\rechazos\\prueba\\Venta perdida x Cliente y ruta diaria_1128_6544381617250754382.xlsx' para la hoja 'Motivos_VP (clte)'.\n"
     ]
    },
    {
     "name": "stderr",
     "output_type": "stream",
     "text": [
      "c:\\Informacion\\rechazos\\Analisis\\automatizacion_reporte_rechazos\\update_file.py:31: UserWarning: Could not infer format, so each element will be parsed individually, falling back to `dateutil`. To ensure parsing is consistent and as-expected, please specify a format.\n",
      "  df_local_copy[document['date']+\"2\"] = pd.to_datetime(df_local_copy[document['date']], dayfirst=True, errors='coerce')\n"
     ]
    }
   ],
   "source": [
    "def update_local_file(document):\n",
    "    # Rutas de archivo\n",
    "    mail_file_address = document['mail_file_address']\n",
    "    mail_sheet_name = document['mail_sheet_name']\n",
    "    local_file_address = os.path.join(root_address+test_address, document['local_file_name'])\n",
    "\n",
    "    # Leer datos del archivo local\n",
    "    df_local = pd.read_csv(local_file_address, sep=';')\n",
    "    df_local = uf.delete_unnamed_columns(df_local)\n",
    "\n",
    "    # Leer datos del archivo de correo\n",
    "    df_mail = pd.read_excel(mail_file_address, sheet_name=mail_sheet_name, header=None)\n",
    "    df_mail = uf.clean_mail_file(df_mail)\n",
    "    df_mail = uf.filter_mail_file_locations(df_mail, locaciones)\n",
    "\n",
    "    # Filtrar por fecha\n",
    "    df_mail = uf.filter_mail_file_dates(document, df_mail, df_local)\n",
    "\n",
    "    if len(df_mail) > 0:        \n",
    "        # Configuracion solo para el archivo de ruta\n",
    "        df_mail = uf.customized_ruta_mail_file(df_mail, vendedores)\n",
    "\n",
    "        # Asegurar los mismos tipos de datos (str, int, ...)\n",
    "        df_mail.columns = df_local.columns\n",
    "        df_mail = df_mail.astype(df_local.dtypes.to_dict())\n",
    "\n",
    "        # Convertir la fecha a string, incluso si los valores son datetime dentro de \"object\"\n",
    "        df_mail[document['date']] = df_mail[document['date']].apply(lambda x: x.strftime('%d/%m/%Y') if isinstance(x, pd.Timestamp) or isinstance(x, datetime) else str(x))\n",
    "        #print(document['date'].apply(type).value_counts())\n",
    "\n",
    "        # Convertir a Polars\n",
    "        df_local = pl.from_pandas(df_local)\n",
    "        df_mail = pl.from_pandas(df_mail)\n",
    "\n",
    "        if df_mail.schema != df_local.schema:\n",
    "            print(\"⚠️ Los esquemas no coinciden\")\n",
    "\n",
    "        # print(f'Local: {df_local.schema}')\n",
    "        print(df_local.shape)\n",
    "        # print(f'Mail: {df_mail.schema}')\n",
    "        print(df_mail.shape)\n",
    "\n",
    "        # Combinar los datos (sin eliminar duplicados)\n",
    "        df_updated = pl.concat([df_local, df_mail])\n",
    "\n",
    "        # print(f'Updated: {df_mail.schema}')\n",
    "        print(df_updated.shape)\n",
    "\n",
    "        return df_updated\n",
    "    \n",
    "    else:\n",
    "        print(f\"⚠️ No hay datos nuevos en el archivo de correo '{mail_file_address}' para la hoja '{mail_sheet_name}'.\")\n",
    "\n",
    "        return pl.from_pandas(df_local)\n",
    "\n",
    "transportista_updated = update_local_file(transportista)\n",
    "ruta_updated = update_local_file(ruta)"
   ]
  },
  {
   "cell_type": "markdown",
   "id": "c5d2e14c",
   "metadata": {},
   "source": [
    "### Actualizar Transportista Resumen"
   ]
  },
  {
   "cell_type": "code",
   "execution_count": 59,
   "id": "8cc93525",
   "metadata": {},
   "outputs": [],
   "source": [
    "# Función para asignar la meta desde el diccionario\n",
    "def obtener_meta(loc, año, mes):\n",
    "    try:\n",
    "        return meta[loc][año][mes]\n",
    "    except KeyError:\n",
    "        return 0.0"
   ]
  },
  {
   "cell_type": "code",
   "execution_count": 60,
   "id": "179d6d35",
   "metadata": {},
   "outputs": [],
   "source": [
    "# Resumen CF de transportista\n",
    "\n",
    "df = transportista_updated\n",
    "\n",
    "# Asegurar tipos\n",
    "df = df.with_columns([\n",
    "    pl.col(\"Fecha\").str.strptime(pl.Date, \"%d/%m/%Y\", strict=False),\n",
    "    pl.col(\"Carga Pvta CF\").cast(pl.Float64),\n",
    "    pl.col(\"Rechazo CF\").cast(pl.Float64)\n",
    "])\n",
    "\n",
    "# Agregar columnas de año y mes para usar en la función meta\n",
    "df = df.with_columns([\n",
    "    pl.col(\"Fecha\").dt.year().alias(\"Año\"),\n",
    "    pl.col(\"Fecha\").dt.month().alias(\"Mes\")\n",
    "])\n",
    "\n",
    "# Agrupar por Fecha y Locación\n",
    "transportista_resumen_updated = df.group_by([\"Fecha\", \"Locación\", \"Año\", \"Mes\"]).agg([\n",
    "    pl.sum(\"Carga Pvta CF\").alias(\"Total CF Programandas\"),\n",
    "    pl.sum(\"Rechazo CF\").alias(\"Total CF Rechazadas\")\n",
    "])\n",
    "\n",
    "# Aplicar la función de meta\n",
    "transportista_resumen_updated = transportista_resumen_updated.with_columns([\n",
    "    pl.struct([\"Locación\", \"Año\", \"Mes\"]).map_elements(\n",
    "        lambda x: obtener_meta(x[\"Locación\"], x[\"Año\"], x[\"Mes\"]),\n",
    "        return_dtype=pl.Float64\n",
    "    ).alias(\"Meta\")\n",
    "])\n",
    "\n",
    "# Calcular columnas adicionales\n",
    "transportista_resumen_updated = transportista_resumen_updated.with_columns([\n",
    "    pl.col(\"Total CF Programandas\").round(2),\n",
    "    pl.col(\"Total CF Rechazadas\").round(2),\n",
    "    (pl.col(\"Meta\") / 2).alias(\"Alerta\"),\n",
    "    (pl.col(\"Meta\") * 2).alias(\"End\"),\n",
    "    (\n",
    "        (pl.col(\"Total CF Rechazadas\") / pl.col(\"Total CF Programandas\"))\n",
    "        .fill_nan(0)\n",
    "        .fill_null(0)\n",
    "    ).alias(\"% Rechazo\")\n",
    "])\n",
    "\n",
    "# Formato final (opcional: redondear y convertir % a string)\n",
    "transportista_resumen_updated = transportista_resumen_updated.select([\n",
    "    \"Fecha\",\n",
    "    \"Locación\",\n",
    "    \"Total CF Programandas\",\n",
    "    \"Total CF Rechazadas\",\n",
    "    pl.col(\"Meta\").map_elements(lambda x: f\"{math.ceil(x * 100) / 100:.2f}%\", return_dtype=pl.Utf8).alias(\"Meta\"),\n",
    "    pl.col(\"Alerta\").map_elements(lambda x: f\"{math.ceil(x * 100) / 100:.2f}%\", return_dtype=pl.Utf8).alias(\"Alerta\"),\n",
    "    pl.col(\"End\").map_elements(lambda x: f\"{math.ceil(x * 100) / 100:.2f}%\", return_dtype=pl.Utf8).alias(\"End\"),\n",
    "    pl.col(\"% Rechazo\").map_elements(lambda x: f\"{x:.2%}\", return_dtype=pl.Utf8).alias(\"% Rechazo\")\n",
    "])\n",
    "\n",
    "#print(f'Transportista resumen: {transportista_resumen_updated.schema}')\n",
    "# print(transportista_resumen_updated.shape)"
   ]
  },
  {
   "cell_type": "markdown",
   "id": "c9513a2d",
   "metadata": {},
   "source": [
    "### Update Files"
   ]
  },
  {
   "cell_type": "code",
   "execution_count": 61,
   "id": "63eb135c",
   "metadata": {},
   "outputs": [],
   "source": [
    "uf.save_local_file_changes(transportista_updated, transportista)\n",
    "uf.save_local_file_changes(ruta_updated, ruta)\n",
    "uf.save_local_file_changes(transportista_resumen_updated, transportista_resumen)"
   ]
  },
  {
   "cell_type": "markdown",
   "id": "0738ee28",
   "metadata": {},
   "source": [
    "### Continuar con envio de reporte\n",
    "\n",
    "Ahora se actualizara y subira manualmente power bi"
   ]
  },
  {
   "cell_type": "code",
   "execution_count": 62,
   "id": "f1cd8bd4",
   "metadata": {},
   "outputs": [],
   "source": [
    "continue_with_automatizaion = \"\"\n",
    "yes = 'si'\n",
    "\n",
    "while continue_with_automatizaion.lower() != yes:\n",
    "    continue_with_automatizaion = str(input(\"¿Desea continuar con la automatización? (si/no): \"))"
   ]
  },
  {
   "cell_type": "markdown",
   "id": "1ae1cf21",
   "metadata": {},
   "source": [
    "### Enviar reporte por correo"
   ]
  },
  {
   "cell_type": "markdown",
   "id": "0d9c2d8f",
   "metadata": {},
   "source": [
    "Configuracion"
   ]
  },
  {
   "cell_type": "code",
   "execution_count": 64,
   "id": "85c2b4fb",
   "metadata": {},
   "outputs": [],
   "source": [
    "# Configuracion usadas para el uso de selenium y chromedriver\n",
    "RECHAZOS_PAGE = 'https://app.powerbi.com/groups/me/reports/73309ec0-8d79-4111-ac74-acee01ed5375/ReportSection487ba5c07a522bf0fc8c'\n",
    "DETALLES_PAGE = 'https://app.powerbi.com/groups/me/reports/73309ec0-8d79-4111-ac74-acee01ed5375/ReportSection3f59cb816b6f52a24171'\n",
    "METAS_Y_RESUMEN_PAGE = 'https://app.powerbi.com/groups/me/reports/73309ec0-8d79-4111-ac74-acee01ed5375/ReportSectionf1e1f415e4cba9cc4035'\n",
    "REPORTES = [\"% CF Rechazadas\", \"CF Rech. por Motivo\", \"CF Rech. por Transportista\", \"Historico % Rechazo por día\"]"
   ]
  },
  {
   "cell_type": "code",
   "execution_count": null,
   "id": "d9e02242",
   "metadata": {},
   "outputs": [
    {
     "name": "stdout",
     "output_type": "stream",
     "text": [
      "[*] Abriendo Power BI...\n",
      "[*] Esperando a que cargue el gráfico...\n",
      "[*] Buscando el gráfico % CF Rechazadas\n",
      "[✓] Imagen guardada como 'grafico_% CF Rechazadas.png'\n",
      "\n",
      "[*] Buscando el gráfico CF Rech. por Motivo\n",
      "[✓] Imagen guardada como 'grafico_CF Rech. por Motivo.png'\n",
      "\n",
      "[*] Buscando el gráfico CF Rech. por Transportista\n",
      "[✓] Imagen guardada como 'grafico_CF Rech. por Transportista.png'\n",
      "\n",
      "[*] Buscando el gráfico Historico % Rechazo por día\n",
      "[✓] Imagen guardada como 'grafico_Historico % Rechazo por día.png'\n",
      "\n"
     ]
    }
   ],
   "source": [
    "# ==== CONFIGURACIÓN DE SELENIUM ====\n",
    "options = Options()\n",
    "options.add_argument(\"--start-maximized\")\n",
    "options.add_argument(\"--user-data-dir=C:\\\\Users\\\\AYACDA23\\\\AppData\\\\Local\\\\Google\\\\Chrome\\\\User Data\\\\Profile 6\")\n",
    "\n",
    "driver = webdriver.Chrome(options=options)\n",
    "\n",
    "try:\n",
    "    print(\"[*] Abriendo Power BI...\")\n",
    "    driver.get(RECHAZOS_PAGE)\n",
    "\n",
    "    print(\"[*] Esperando a que cargue el gráfico...\\n\")\n",
    "    wait = WebDriverWait(driver, 30)\n",
    "    time.sleep(20)\n",
    "\n",
    "    for reporte in REPORTES:\n",
    "        print(f'[*] Buscando el gráfico {reporte}')        \n",
    "\n",
    "        try:\n",
    "            # Buscar todos los elementos con aria-label dentro de visual-container\n",
    "            candidatos = driver.find_elements(By.XPATH, f\"//visual-container//*[contains(@aria-label, '{reporte}')]\")\n",
    "\n",
    "            if not candidatos:\n",
    "                raise Exception(f\"❌ No se encontró ningún gráfico con el texto: '{reporte}'\")\n",
    "\n",
    "            for cand in candidatos:\n",
    "                # Subimos al ancestro visual-container\n",
    "                try:\n",
    "                    contenedor = cand.find_element(By.XPATH, \"./ancestor::visual-container\")\n",
    "                    grafico = contenedor.find_element(By.CLASS_NAME, \"visualContainer\")\n",
    "                    break\n",
    "                except:\n",
    "                    continue\n",
    "            else:\n",
    "                raise Exception(f\"❌ No se encontró visualContainerHost para: '{reporte}'\")\n",
    "\n",
    "            # Captura\n",
    "            driver.execute_script(\"arguments[0].scrollIntoView({block: 'center'});\", grafico)\n",
    "            time.sleep(2)\n",
    "            grafico.screenshot(f'grafico_{reporte}.png')\n",
    "            print(f\"[✓] Imagen guardada como 'grafico_{reporte}.png'\\n\")\n",
    "\n",
    "        except Exception as e:\n",
    "            print(f\"[X] Error: no se pudo encontrar o capturar '{reporte}' → {e}\")\n",
    "\n",
    "finally:\n",
    "    driver.quit()"
   ]
  }
 ],
 "metadata": {
  "kernelspec": {
   "display_name": "Python 3",
   "language": "python",
   "name": "python3"
  },
  "language_info": {
   "codemirror_mode": {
    "name": "ipython",
    "version": 3
   },
   "file_extension": ".py",
   "mimetype": "text/x-python",
   "name": "python",
   "nbconvert_exporter": "python",
   "pygments_lexer": "ipython3",
   "version": "3.13.3"
  }
 },
 "nbformat": 4,
 "nbformat_minor": 5
}
