{
 "cells": [
  {
   "cell_type": "markdown",
   "id": "d869f857",
   "metadata": {},
   "source": [
    "### Importaciones"
   ]
  },
  {
   "cell_type": "code",
   "execution_count": 15,
   "id": "163cd28c",
   "metadata": {},
   "outputs": [],
   "source": [
    "# Paquetes necesarios para la ejecución del notebook\n",
    "import win32com.client\n",
    "import os\n",
    "import pandas as pd\n",
    "import openpyxl\n",
    "from openpyxl import load_workbook\n",
    "from openpyxl.workbook import Workbook\n",
    "from copy import copy\n",
    "from openpyxl.utils import get_column_letter, column_index_from_string\n",
    "import polars as pl\n",
    "import math\n",
    "import time\n",
    "import pygetwindow as gw\n",
    "from msal import ConfidentialClientApplication\n",
    "import requests\n",
    "from PIL import Image\n",
    "\n",
    "# Módulos personalizados\n",
    "import update_source_report_files_library as usf\n",
    "import update_transportista_resumen_files_library as utr\n",
    "import make_automate_powerbi_report as pb_automate"
   ]
  },
  {
   "cell_type": "markdown",
   "id": "1ef3e61e",
   "metadata": {},
   "source": [
    "### Configuracion"
   ]
  },
  {
   "cell_type": "code",
   "execution_count": 16,
   "id": "61fdc76a",
   "metadata": {},
   "outputs": [
    {
     "name": "stderr",
     "output_type": "stream",
     "text": [
      "<>:151: SyntaxWarning: invalid escape sequence '\\/'\n",
      "<>:158: SyntaxWarning: invalid escape sequence '\\/'\n",
      "<>:168: SyntaxWarning: invalid escape sequence '\\/'\n",
      "<>:151: SyntaxWarning: invalid escape sequence '\\/'\n",
      "<>:158: SyntaxWarning: invalid escape sequence '\\/'\n",
      "<>:168: SyntaxWarning: invalid escape sequence '\\/'\n",
      "C:\\Users\\AYACDA23\\AppData\\Local\\Temp\\ipykernel_11824\\2080608802.py:151: SyntaxWarning: invalid escape sequence '\\/'\n",
      "  \"date_format\": \"dd\\/mm\\/yyyy\",\n",
      "C:\\Users\\AYACDA23\\AppData\\Local\\Temp\\ipykernel_11824\\2080608802.py:158: SyntaxWarning: invalid escape sequence '\\/'\n",
      "  \"date_format\": \"dd\\/mm\\/yyyy\",\n",
      "C:\\Users\\AYACDA23\\AppData\\Local\\Temp\\ipykernel_11824\\2080608802.py:168: SyntaxWarning: invalid escape sequence '\\/'\n",
      "  \"date_format\": \"d\\/m\\/yy\",\n"
     ]
    }
   ],
   "source": [
    "# Constantes usadas en el notebook\n",
    "MAPI = \"MAPI\" # Messaging Application Programming Interface\n",
    "DOT = \".\"\n",
    "OUTLOOK = \"Outlook\"\n",
    "APPLICATION = \"Application\"\n",
    "MAIL_ITEM_CODE = 43\n",
    "\n",
    "# Diccionarios\n",
    "outlook_folder_codes = {\n",
    "    0: 'Calendario',\n",
    "    1: 'Contactos',\n",
    "    2: 'Borradores',\n",
    "    3: 'Diario / Jornal',\n",
    "    4: 'Notas',\n",
    "    5: 'Tareas',\n",
    "    6: 'Bandeja de entrada',\n",
    "    7: 'Bandeja de salida',\n",
    "    8: 'Elementos enviados',\n",
    "    9: 'Elementos eliminados',\n",
    "    10: 'Bandeja de correo del servidor',\n",
    "    11: 'Conflictos',\n",
    "    12: 'Elementos de sincronizacion local',\n",
    "    13: 'Elementos de sincronizacion (Envio)',\n",
    "    14: 'Elementos de sincronización (Recibo)',\n",
    "    15: 'Elementos de sincronización completa',\n",
    "    16: 'Diario de formularios',\n",
    "    17: 'Carpeta de búsqueda',\n",
    "    18: 'Bandeja para reglas cliente',\n",
    "    19: 'Carpeta de sugerencias de correo',\n",
    "}\n",
    "parse_locaciones = {\n",
    "    '06 AYA EL PEDREGAL': 'El Pedregal',\n",
    "    '38 AYA ATICO': 'Atico',\n",
    "    '40 AYA CHALA': 'Chala',\n",
    "    '88 AYA CAMANA': 'Camana'\n",
    "}\n",
    "meta = {\n",
    "    '06 AYA EL PEDREGAL': {\n",
    "        2023: {1: 0.7, 2: 0.7, 3: 0.7, 4: 0.7, 5: 0.7, 6: 0.7, 7: 0.7, 8:0.7, 9:0.7, 10:0.7, 11:0.7, 12:0.7},\n",
    "        2024: {1: 1.2, 2: 1.2, 3: 1.2, 4: 1, 5: 1, 6: 1, 7: 1, 8: 1, 9: 1, 10: 1, 11: 1, 12: 1},\n",
    "        2025: {1: 0.88, 2: 0.88, 3: 0.88, 4: 0.88, 5: 0.88, 6: 0.88, 7: 0, 8: 0, 9: 0, 10: 0, 11: 0, 12: 0},\n",
    "    },\n",
    "    '38 AYA ATICO': {\n",
    "        2023: {1: 0.7, 2: 0.7, 3: 0.7, 4: 0.7, 5: 0.7, 6: 0.7, 7: 0.7, 8:0.7, 9:0.7, 10:0.7, 11:0.7, 12:0.7},\n",
    "        2024: {1: 0.4, 2: 0.4, 3: 0.4, 4: 0.48, 5: 0.48, 6: 0.48, 7: 0.48, 8: 0.48, 9: 0.48, 10: 0.48, 11: 0.48, 12: 0.48},\n",
    "        2025: {1: 0.24, 2: 0.24, 3: 0.24, 4: 0.24, 5: 0.24, 6: 0.24, 7: 0, 8: 0, 9: 0, 10: 0, 11: 0, 12: 0},\n",
    "    },\n",
    "    '40 AYA CHALA': {\n",
    "        2023: {1: 0.7, 2: 0.7, 3: 0.7, 4: 0.7, 5: .7, 6: 0.7, 7: 0.7, 8:0.7, 9:0.7, 10:0.7, 11:0.7, 12:0.7},\n",
    "        2024: {1: 0.5, 2: 0.5, 3: 0.5, 4: 0.60, 5: 0.60, 6: 0.60, 7: 0.60, 8: 0.60, 9: 0.60, 10: 0.60, 11: 0.60, 12: 0.60},\n",
    "        2025: {1: 0.31, 2: 0.31, 3: 0.31, 4: 0.31, 5: 0.31, 6: 0.31, 7: 0, 8: 0, 9: 0, 10: 0, 11: 0, 12: 0},\n",
    "    },\n",
    "    '88 AYA CAMANA': {\n",
    "        2023: {1: 0.7, 2: 0.7, 3: 0.7, 4: 0.7, 5: 0.7, 6: 0.7, 7: 0.7, 8:0.7, 9:0.7, 10:0.7, 11:0.7, 12:0.7},\n",
    "        2024: {1: 0.85, 2: 0.85, 3: 0.85, 4: 0.85, 5: 0.85, 6: 0.85, 7: 0.85, 8: 0.85, 9: 0.85, 10: 0.85, 11: 0.85, 12: 0.85},\n",
    "        2025: {1: 0.57, 2: 0.57, 3: 0.57, 4: 0.57, 5: 0.57, 6: 0.57, 7: 0, 8: 0, 9: 0, 10: 0, 11: 0, 12: 0},\n",
    "    }\n",
    "}\n",
    "vendedores = {\n",
    "    '06 AYA EL PEDREGAL': {\n",
    "        '0000001013': 'AYALA CCAHUANA EDMUNDO',\n",
    "        '0000001006': 'BARRAZA REVILLA FREDY',\n",
    "        '0000001000': 'CARDENAS CHOQUECAJIA WHITNEY AWARD',\n",
    "        '0000001001': 'CHARA ROJAS GISELA SOLEDAD',\n",
    "        '0000001007': 'CHINO QUISPE JORGE LUIS',\n",
    "        '0000006014': 'EDWAR QUISPE CHINO',\n",
    "        '0000006009': 'GALLARDO HUAYLLA RENATO LEUTERIO',\n",
    "        '0000006003': 'GALLEGOS NUÑEZ JUAN FREDY',\n",
    "        '0000005999': 'GESTOR VIRTUAL',\n",
    "        '0000001010': 'HUANCA MAMANI JACKSON',\n",
    "        '0000006006': 'HUAYCHO TORRES ULBER',\n",
    "        '0000006005': 'HUAYCHO TORRES ULBER',\n",
    "        '0000001012': 'HUAYLLAZO HUACCHA CRISTHIAN PAOLO',\n",
    "        '0000006012': 'NELSON RAUL CONZA CHARCA',\n",
    "        '0000001002': 'PACHECO CONDORI ANDRES OSCAR',\n",
    "        '0000001011': 'QUISPE CHINO WILIAN YURI',\n",
    "        '0000001004': 'QUISPE HUAYLLA MARISOL S.',\n",
    "        '0000006013': 'RONALD GONZALO HUILLCA MAMANI',\n",
    "        '0000001003': 'TACO XESSPE KELY SOFIA',\n",
    "        '0000001005': 'VALDERRAMA ELLIS JESSICA A.',\n",
    "        '0000001008': 'VEND NVA RUTA 10',\n",
    "        '0000001009': 'YUCRA JIMENEZ ANA LUZ',\n",
    "        '0000001014': 'CHARA ROJAS GISELA SOLEDAD',\n",
    "        '0000001015': 'BARRAZA REVILLA FREDY',\n",
    "        '0000001019': 'BATALLANOS SANCA RODRIGO LEOPOLDO',\n",
    "        '0000001016': 'PARI PUCHO FREDY OSWALDO',\n",
    "        '0000001017': 'COAGUILLA MAMANI JOSE ALBERTO',\n",
    "        '0000001018': 'ORTEGA MAMANI JORGE LUIS'\n",
    "    },\n",
    "    '38 AYA ATICO': {\n",
    "        '0000001001': 'ALANYA RAMIREZ FERNANDO JOSUE',\n",
    "        '0000005999': 'GESTOR VIRTUAL',\n",
    "        '0000001000': 'SAUL ANDRES VIÑA VIZCARDO'\n",
    "    },\n",
    "    '40 AYA CHALA': {\n",
    "        '0000001004': 'CANALES AGUILAR HILBERTO',\n",
    "        '0000001007': 'CHIPANA JURADO JHORS EDUARDO',\n",
    "        '0000006010': 'DIONICIO DANIEL HUARCAYA SALAZAR',\n",
    "        '0000005999': 'GESTOR VIRTUAL',\n",
    "        '0000006009': 'GLOBER FELIPE JARA MAQUER',\n",
    "        '0000006005': 'GONZALES CHURA MAGNO ALFREDO',\n",
    "        '0000001000': 'HERRERA TAPIA EDWIN DONATO',\n",
    "        '0000006002': 'JARA CARAZAS RODOLFO JOSUE.L',\n",
    "        '0000006007': 'JUAN CARLOS ARIAS BENITES',\n",
    "        '0000001003': 'MAMANI TINTAYA KRISTHOFER',\n",
    "        '0000001006': 'MAMANI TINTAYA KRISTHOFER',\n",
    "        '0000001005': 'QUISE CCAPA EVER',\n",
    "        '0000001002': 'RODRIGUEZ JOSE ANTONIO',\n",
    "        '0000001001': 'VENDEDOR RT M1'        \n",
    "    },\n",
    "    '88 AYA CAMANA': {\n",
    "        '0000001007': 'AUCAHUAQUI REVILLA DANIEL HITLER',\n",
    "        '0000001011': 'CARAZAS REZA LUIS ALBERTO',\n",
    "        '0000001003': 'CONDORCHOA SIERRA NEMECIO',\n",
    "        '0000006001': 'CONDORCHOA SIERRA NEMESIO JESUS',\n",
    "        '0000006002': 'DE LA CRUZ CALCINA ELAR',\n",
    "        '0000006010': 'EDILBERTO RAMIREZ LARICO',\n",
    "        '0000005999': 'GESTOR VIRTUAL',\n",
    "        '0000001002': 'HUAMANI RODRIGUEZ YONATAN ANYIMZAN',\n",
    "        '0000006011': 'JAIME CHAVEZ CONDORI',\n",
    "        '0000001005': 'LLERENA DE LA CRUZ RICARDO SNEIDER',\n",
    "        '0000001004': 'MEDINA VELASQUEZ JAVIER ENRIQUE',\n",
    "        '0000006014': 'MOISES RICHARD CONDORCHOA SIERRA',\n",
    "        '0000001008': 'MOLLO YUPANQUI JOSE OMAR',\n",
    "        '0000001001': 'NO APLICA VENDEDOR',\n",
    "        '0000006008': 'QUISPE CCACHUCO FREDY',\n",
    "        '0000001010': 'RAMOS MAMANI RUBEN',\n",
    "        '0000006016': 'RENATO ELEUTERIO GALLARADO HUAYLLA',\n",
    "        '0000001006': 'SACARI CHOQUEHUANCA WILSON',\n",
    "        '0000001000': 'SALAZAR HUAMANI SAUL ANTONIO',\n",
    "        '0000001012': 'VEND RT X1',\n",
    "        '0000001009': 'VIZCARDO BUSTAMANTE ALBERTH FRANCK'\n",
    "    }\n",
    "}\n",
    "\n",
    "# Listas\n",
    "locaciones = ['06 AYA EL PEDREGAL', '38 AYA ATICO', '40 AYA CHALA', '88 AYA CAMANA']\n",
    "\n",
    "# Variables de configuracion\n",
    "root_address = r'C:\\Informacion\\rechazos' # Direcccion de carpeta raiz\n",
    "test_address = r'\\prueba'\n",
    "backup_address = r'\\backup'\n",
    "transportista = {\n",
    "    \"mail_subject\": \"Reporte de ordenes de carga diario\",         # Nombre del asunto de correo\n",
    "    \"local_file_name\": \"Cf_programadas_por_transportista.csv\",    # Nombre del archivo local\n",
    "    \"local_file_address\": \"\",                                     # Direccion del archivo local\n",
    "    \"mail_file_address\": \"\",                                      # Direccion del archivo del correo\n",
    "    \"mail_sheet_name\": \"Guias\",\n",
    "    \"mail_received_time\": \"\",\n",
    "    \"date\": \"Fecha\",\n",
    "    \"date_format\": \"dd\\/mm\\/yyyy\",\n",
    "}\n",
    "transportista_resumen = {\n",
    "    \"mail_subject\": \"Reporte de ordenes de carga diario\",                 # Nombre del asunto de correo\n",
    "    \"local_file_name\": \"Cf_programadas_por_transportista_resumen.csv\",    # Nombre del archivo local\n",
    "    \"local_file_address\": \"\",                                             # Direccion del archivo local\n",
    "    \"date\": \"Fecha\",\n",
    "    \"date_format\": \"dd\\/mm\\/yyyy\",\n",
    "}\n",
    "ruta = {\n",
    "    \"mail_subject\": \"Venta perdida diaria por cliente y ruta - acum mes\",   # Nombre del asunto de correo\n",
    "    \"local_file_name\": \"Cf_rech_por_ruta.csv\",                              # Nombre del archivo local\n",
    "    \"local_file_address\": \"\",                                               # Direccion del archivo local\n",
    "    \"mail_file_address\": \"\",                                                # Direccion del archivo del correo\n",
    "    \"mail_sheet_name\": \"Motivos_VP (clte)\",\n",
    "    \"mail_received_time\": \"\",\n",
    "    \"date\": \"Día\",\n",
    "    \"date_format\": \"d\\/m\\/yy\",\n",
    "}"
   ]
  },
  {
   "cell_type": "markdown",
   "id": "b058bcf2",
   "metadata": {},
   "source": [
    "### Obtener correos de outlook"
   ]
  },
  {
   "cell_type": "code",
   "execution_count": 17,
   "id": "127123ae",
   "metadata": {},
   "outputs": [
    {
     "name": "stdout",
     "output_type": "stream",
     "text": [
      "Tipo de folder:  Bandeja de entrada\n"
     ]
    }
   ],
   "source": [
    "# Conectar a Outlook\n",
    "#outlook_folder_code = int(input(f'{\" \".join([\"(\" + str(key) + \": \" + value + \")\" for key, value in outlook_folder_codes.items()])}'))\n",
    "outlook = win32com.client.Dispatch(OUTLOOK+DOT+APPLICATION).GetNamespace(MAPI)\n",
    "\n",
    "outlook_folder = outlook.GetDefaultFolder(6)\n",
    "print(\"Tipo de folder: \", outlook_folder)"
   ]
  },
  {
   "cell_type": "markdown",
   "id": "8adb2ea7",
   "metadata": {},
   "source": [
    "### Guardar archivo de outlook"
   ]
  },
  {
   "cell_type": "code",
   "execution_count": 18,
   "id": "af8303c0",
   "metadata": {},
   "outputs": [
    {
     "name": "stderr",
     "output_type": "stream",
     "text": [
      "c:\\Users\\AYACDA23\\AppData\\Local\\Programs\\Python\\Python313\\Lib\\site-packages\\openpyxl\\styles\\stylesheet.py:237: UserWarning: Workbook contains no default style, apply openpyxl's default\n",
      "  warn(\"Workbook contains no default style, apply openpyxl's default\")\n",
      "c:\\Users\\AYACDA23\\AppData\\Local\\Programs\\Python\\Python313\\Lib\\site-packages\\openpyxl\\styles\\stylesheet.py:237: UserWarning: Workbook contains no default style, apply openpyxl's default\n",
      "  warn(\"Workbook contains no default style, apply openpyxl's default\")\n"
     ]
    }
   ],
   "source": [
    "# Buscar el correo más reciente con archivo Excel\n",
    "mails = outlook_folder.Items\n",
    "\n",
    "# Ordenar por fecha descendente\n",
    "mails.Sort(\"[ReceivedTime]\", True) # (mails) Es un objeto lista\n",
    "\n",
    "''' MAIL PROPERTIES\n",
    "    | (mail.Subject) (mail.ReceivedTime) (mail.SenderName)       |\n",
    "    | (mail.SenderEmailAddress) (mail.To) (mail.CC)              |\n",
    "    | (mail.Body) (mail.Attachments.Count) (mail.CreationTime)   |\n",
    "    | (mail.LastModificationTime) (mail.EntryID)                 |\n",
    "'''\n",
    "\n",
    "# Descargar archivos Excel de los correos\n",
    "def download_excel_file(mails, mail_subject, mail_sheet_name):\n",
    "    for mail in mails: # Recorrer todos los correos\n",
    "        if mail.Class != MAIL_ITEM_CODE: # Asegurar que el correo sea un MailItem (otros pueden ser calendario, alertas, etc)\n",
    "            continue\n",
    "        \n",
    "        if (mail_subject.lower() in mail.Subject.lower()) & (mail.Attachments.Count > 0):\n",
    "            for attachment in mail.Attachments:\n",
    "                if attachment.FileName.endswith((\".xlsx\", \".xls\")):\n",
    "                    file_name = attachment.FileName\n",
    "                    file_address = os.path.join(root_address+test_address, file_name)\n",
    "                    attachment.SaveAsFile(file_address)\n",
    "\n",
    "                    # Validar si hay que revisar una hoja\n",
    "                    if mail_sheet_name:\n",
    "                        try:\n",
    "                            # Cargar solo la hoja específica\n",
    "                            df = pd.read_excel(file_address, sheet_name=mail_sheet_name, header=None)\n",
    "                            df = usf.fix_misplaced_headers(df)\n",
    "\n",
    "                            # Eliminar filas que están completamente vacías\n",
    "                            df_clean = df.dropna(how='all')\n",
    "\n",
    "                            # Si la hoja esta completamente vacía, eliminar el archivo\n",
    "                            if df.empty:\n",
    "                                print(f\"Archivo '{file_name}' con fecha {mail.ReceivedTime} está vacío, eliminando...\")\n",
    "                                os.remove(file_address)\n",
    "                                continue\n",
    "                            \n",
    "                            # Si no hay datos pero si encabezados, eliminar el archivo\n",
    "                            elif df_clean.shape[0] == 0:\n",
    "                                print(f\"Archivo '{file_name}' con fecha {mail.ReceivedTime} está vacío, eliminando...\")\n",
    "                                os.remove(file_address)\n",
    "                                continue\n",
    "\n",
    "                        except Exception as e:\n",
    "                            print(f\"Error leyendo hoja '{mail_sheet_name}' en {file_name}: {e}\")\n",
    "                            continue\n",
    "\n",
    "                    # Si pasó las validaciones, devolver                    \n",
    "                    return file_address, mail.ReceivedTime.strftime(\"%Y-%m-%d\")\n",
    "\n",
    "transportista['mail_file_address'], transportista['mail_received_time'] = download_excel_file(mails, transportista['mail_subject'], transportista['mail_sheet_name'])\n",
    "ruta['mail_file_address'], ruta['mail_received_time'] = download_excel_file(mails, ruta['mail_subject'], ruta['mail_sheet_name'])"
   ]
  },
  {
   "cell_type": "markdown",
   "id": "3ba78b40",
   "metadata": {},
   "source": [
    "### Establecer configuracion de documentos"
   ]
  },
  {
   "cell_type": "code",
   "execution_count": 19,
   "id": "b3d8ae6c",
   "metadata": {},
   "outputs": [
    {
     "name": "stdout",
     "output_type": "stream",
     "text": [
      "\n",
      "TRANSPORTISTA:\n",
      "mail_subject: Reporte de ordenes de carga diario\n",
      "local_file_name: Cf_programadas_por_transportista.csv\n",
      "local_file_address: C:\\Informacion\\rechazos\\prueba\\Cf_programadas_por_transportista.csv\n",
      "mail_file_address: C:\\Informacion\\rechazos\\prueba\\Reporte de Guias de Distribución por FechaV3_3308_5062610878280057914.xlsx\n",
      "mail_sheet_name: Guias\n",
      "mail_received_time: 2025-06-06\n",
      "date: Fecha\n",
      "date_format: dd\\/mm\\/yyyy\n",
      "\n",
      "TRANSPORTISTA RESUMEN:\n",
      "mail_subject: Reporte de ordenes de carga diario\n",
      "local_file_name: Cf_programadas_por_transportista_resumen.csv\n",
      "local_file_address: C:\\Informacion\\rechazos\\prueba\\Cf_programadas_por_transportista_resumen.csv\n",
      "date: Fecha\n",
      "date_format: dd\\/mm\\/yyyy\n",
      "\n",
      "RUTA:\n",
      "mail_subject: Venta perdida diaria por cliente y ruta - acum mes\n",
      "local_file_name: Cf_rech_por_ruta.csv\n",
      "local_file_address: C:\\Informacion\\rechazos\\prueba\\Cf_rech_por_ruta.csv\n",
      "mail_file_address: C:\\Informacion\\rechazos\\prueba\\Venta perdida x Cliente y ruta diaria_959_8641594910137895295.xlsx\n",
      "mail_sheet_name: Motivos_VP (clte)\n",
      "mail_received_time: 2025-06-06\n",
      "date: Día\n",
      "date_format: d\\/m\\/yy\n"
     ]
    }
   ],
   "source": [
    "transportista['local_file_address'] = os.path.join(root_address+test_address, transportista['local_file_name'])\n",
    "transportista_resumen['local_file_address'] = os.path.join(root_address+test_address, transportista_resumen['local_file_name'])\n",
    "ruta['local_file_address'] = os.path.join(root_address+test_address, ruta['local_file_name'])\n",
    "\n",
    "# Configuracion de documentos\n",
    "def imprimir_diccionario(nombre, diccionario):\n",
    "    print(f'\\n{nombre.upper()}:')\n",
    "    for clave, valor in diccionario.items():\n",
    "        print(f'{clave}: {valor}')\n",
    "\n",
    "imprimir_diccionario('Transportista', transportista)\n",
    "imprimir_diccionario('Transportista Resumen', transportista_resumen)\n",
    "imprimir_diccionario('Ruta', ruta)"
   ]
  },
  {
   "cell_type": "markdown",
   "id": "0ae560c1",
   "metadata": {},
   "source": [
    "### Actualizar Transportista y Ruta"
   ]
  },
  {
   "cell_type": "code",
   "execution_count": 20,
   "id": "d2462f03",
   "metadata": {},
   "outputs": [
    {
     "name": "stdout",
     "output_type": "stream",
     "text": [
      "✅ Archivos de correo correctamente sincronizados (2025-06-06)\n",
      "[*] Procediendo con el analisis de actualizacion de archivos ...\n"
     ]
    },
    {
     "name": "stderr",
     "output_type": "stream",
     "text": [
      "c:\\Users\\AYACDA23\\AppData\\Local\\Programs\\Python\\Python313\\Lib\\site-packages\\openpyxl\\styles\\stylesheet.py:237: UserWarning: Workbook contains no default style, apply openpyxl's default\n",
      "  warn(\"Workbook contains no default style, apply openpyxl's default\")\n"
     ]
    },
    {
     "name": "stdout",
     "output_type": "stream",
     "text": [
      "📄 Archivo sin 'Mesa Comercial'. No se hace nada.\n"
     ]
    },
    {
     "name": "stderr",
     "output_type": "stream",
     "text": [
      "c:\\Users\\AYACDA23\\AppData\\Local\\Programs\\Python\\Python313\\Lib\\site-packages\\openpyxl\\styles\\stylesheet.py:237: UserWarning: Workbook contains no default style, apply openpyxl's default\n",
      "  warn(\"Workbook contains no default style, apply openpyxl's default\")\n"
     ]
    },
    {
     "name": "stdout",
     "output_type": "stream",
     "text": [
      "🛠️ Procesando archivo con 'Mesa Comercial'\n",
      "⚠️ Los esquemas no coinciden\n",
      "Local schema: Schema({'Subregion Comercial': String, 'Locación': String, 'Ruta Troncal Dinámico': String, 'Ruta Figura Dinámico': String, 'Sistema de Ventas Dinámico': String, 'Supervisor': String, 'VendedorCod': Int64, 'Motivo de anulación': String, 'Número de Pedido': Int64, 'Número de orden de carga': Float64, 'Número de Guía': Int64, 'Semana': Int64, 'Mes': String, 'Año': Int64, 'Día': String, 'Venta Perdida CU': Float64, 'Venta Perdida CF': Float64, 'Código Cliente Perú': Int64, 'Cadena Cuenta Clave': String, 'Latitud': Float64, 'Longitud': Float64, 'Cliente': String, 'Dirección': Float64, 'Macrocanal PIVO': String, 'Código Transportista': String, 'Transportista': String, 'Nombre Vendedor': String})\n",
      "Local shape: (8443, 27)\n",
      "Mail schema: Schema({'Subregion Comercial': String, 'Locación': String, 'Ruta Troncal Dinámico': String, 'Ruta Figura Dinámico': String, 'Sistema de Ventas Dinámico': String, 'Supervisor': Null, 'VendedorCod': Int64, 'Motivo de anulación': String, 'Número de Pedido': Int64, 'Número de orden de carga': Float64, 'Número de Guía': Int64, 'Semana': Int64, 'Mes': String, 'Año': Int64, 'Día': String, 'Venta Perdida CU': Float64, 'Venta Perdida CF': Float64, 'Código Cliente Perú': Int64, 'Cadena Cuenta Clave': String, 'Latitud': Float64, 'Longitud': Float64, 'Cliente': String, 'Dirección': Float64, 'Macrocanal PIVO': String, 'Código Transportista': String, 'Transportista': String, 'Nombre Vendedor': String})\n",
      "Mail shape: (33, 27)\n"
     ]
    }
   ],
   "source": [
    "if transportista['mail_received_time'] == ruta['mail_received_time']:\n",
    "    print(f'✅ Archivos de correo correctamente sincronizados ({transportista[\"mail_received_time\"]})')\n",
    "    print('[*] Procediendo con el analisis de actualizacion de archivos ...')\n",
    "    transportista_updated = usf.update_local_file(transportista, locaciones, root_address, test_address, vendedores)\n",
    "    ruta_updated = usf.update_local_file(ruta, locaciones, root_address, test_address, vendedores)\n",
    "\n",
    "else:\n",
    "    print(f\"❌ Archivos de correo no sincronizados (NO PROCEDE LA ACTUALIZACION DE ARCHIVOS)\")\n",
    "    print(f\"Archivo de transportista: {transportista['mail_received_time']}\")\n",
    "    print(f\"Archivo de ruta: {ruta['mail_received_time']}\")"
   ]
  },
  {
   "cell_type": "markdown",
   "id": "c5d2e14c",
   "metadata": {},
   "source": [
    "### Actualizar Transportista Resumen"
   ]
  },
  {
   "cell_type": "code",
   "execution_count": 21,
   "id": "179d6d35",
   "metadata": {},
   "outputs": [
    {
     "name": "stdout",
     "output_type": "stream",
     "text": [
      "✅ Archivos de correo correctamente sincronizados (2025-06-06)\n",
      "[*] Procediendo con el resumen de transportista ...\n"
     ]
    }
   ],
   "source": [
    "if transportista['mail_received_time'] == ruta['mail_received_time']:\n",
    "    print(f'✅ Archivos de correo correctamente sincronizados ({transportista[\"mail_received_time\"]})')\n",
    "    print('[*] Procediendo con el resumen de transportista ...')\n",
    "    transportista_resumen_updated = utr.update_transportista_resumen_file(meta, transportista_updated)\n",
    "\n",
    "else:\n",
    "    print(f\"❌ Archivos de correo no sincronizados (NO PROCEDE EL RESUMEN DE TRANSPORTISTA)\")\n",
    "    print(f\"Archivo de transportista: {transportista['mail_received_time']}\")\n",
    "    print(f\"Archivo de ruta: {ruta['mail_received_time']}\")"
   ]
  },
  {
   "cell_type": "markdown",
   "id": "c9513a2d",
   "metadata": {},
   "source": [
    "### Update Files"
   ]
  },
  {
   "cell_type": "code",
   "execution_count": 22,
   "id": "63eb135c",
   "metadata": {},
   "outputs": [
    {
     "name": "stdout",
     "output_type": "stream",
     "text": [
      "✅ Archivos de correo correctamente sincronizados (2025-06-06)\n",
      "[*] Procediendo con la escritura de archivos ...\n"
     ]
    }
   ],
   "source": [
    "if transportista['mail_received_time'] == ruta['mail_received_time']:\n",
    "    print(f'✅ Archivos de correo correctamente sincronizados ({transportista[\"mail_received_time\"]})')\n",
    "    print('[*] Procediendo con la escritura de archivos ...')\n",
    "    usf.save_local_file_changes(transportista_updated, transportista)\n",
    "    usf.save_local_file_changes(ruta_updated, ruta)\n",
    "    usf.save_local_file_changes(transportista_resumen_updated, transportista_resumen)\n",
    "\n",
    "else:\n",
    "    print(f\"❌ Archivos de correo no sincronizados (NO PROCEDE LA ESCRITURA DE ARCHIVOS)\")\n",
    "    print(f\"Archivo de transportista: {transportista['mail_received_time']}\")\n",
    "    print(f\"Archivo de ruta: {ruta['mail_received_time']}\")"
   ]
  },
  {
   "cell_type": "markdown",
   "id": "0738ee28",
   "metadata": {},
   "source": [
    "Continuar con envio de reporte?"
   ]
  },
  {
   "cell_type": "code",
   "execution_count": 23,
   "id": "f1cd8bd4",
   "metadata": {},
   "outputs": [],
   "source": [
    "continue_with_automatizaion = \"\"\n",
    "yes = 'si'\n",
    "\n",
    "while continue_with_automatizaion.lower() != yes:\n",
    "    continue_with_automatizaion = str(input(\"¿Desea continuar con la automatización? (si/no): \"))"
   ]
  },
  {
   "cell_type": "markdown",
   "id": "1ae1cf21",
   "metadata": {},
   "source": [
    "### Captura de graficos automatizados y envio de reporte"
   ]
  },
  {
   "cell_type": "markdown",
   "id": "0d9c2d8f",
   "metadata": {},
   "source": [
    "Captura de graficos"
   ]
  },
  {
   "cell_type": "code",
   "execution_count": 24,
   "id": "85c2b4fb",
   "metadata": {},
   "outputs": [
    {
     "name": "stdout",
     "output_type": "stream",
     "text": [
      ".-----------------------------------------------------------------------.\n",
      "[*] Abriendo Reporte de Power BI (METAS Y RESUMEN)\n",
      "[*] Esperando a que cargue la página\n",
      "[*] Pagina cargada (10 seg de renderizado) ...\n",
      "\n",
      "Buscar por mes ...\n",
      "\n",
      "[*] Buscando el gráfico: % CF Rechazadas\n",
      "✅ Imagen guardada: METAS Y RESUMEN-1.png\n",
      "[*] Buscando el gráfico: Total CF Prog, Rech.\n",
      "✅ Imagen guardada: METAS Y RESUMEN-2.png\n",
      "[*] Buscando el gráfico: Resumen de Rechazos - Meta\n",
      "✅ Imagen guardada: METAS Y RESUMEN-3.png\n",
      "'-----------------------------------------------------------------------'\n",
      "\n",
      ".-----------------------------------------------------------------------.\n",
      "[*] Abriendo Reporte de Power BI (DETALLES)\n",
      "[*] Esperando a que cargue la página\n",
      "[*] Pagina cargada (10 seg de renderizado) ...\n",
      "\n",
      "Buscar por locacion ...\n",
      "\n",
      "* 06 AYA EL PEDREGAL *\n",
      "[✓] Click realizado en: 06 AYA EL PEDREGAL\n",
      "[*] Buscando el gráfico: Detalle de Cajas Físicas Rechazadas\n",
      "✅ Imagen guardada: DETALLES-06 AYA EL PEDREGAL-1.png\n",
      "* 06 AYA EL PEDREGAL *\n",
      "[✓] Unclick realizado en: 06 AYA EL PEDREGAL\n",
      "* 38 AYA ATICO *\n",
      "[✓] Click realizado en: 38 AYA ATICO\n",
      "[*] Buscando el gráfico: Detalle de Cajas Físicas Rechazadas\n",
      "✅ Imagen guardada: DETALLES-38 AYA ATICO-1.png\n",
      "* 38 AYA ATICO *\n",
      "[✓] Unclick realizado en: 38 AYA ATICO\n",
      "* 40 AYA CHALA *\n",
      "[✓] Click realizado en: 40 AYA CHALA\n",
      "[*] Buscando el gráfico: Detalle de Cajas Físicas Rechazadas\n",
      "✅ Imagen guardada: DETALLES-40 AYA CHALA-1.png\n",
      "* 40 AYA CHALA *\n",
      "[✓] Unclick realizado en: 40 AYA CHALA\n",
      "* 88 AYA CAMANA *\n",
      "[✓] Click realizado en: 88 AYA CAMANA\n",
      "[*] Buscando el gráfico: Detalle de Cajas Físicas Rechazadas\n",
      "✅ Imagen guardada: DETALLES-88 AYA CAMANA-1.png\n",
      "* 88 AYA CAMANA *\n",
      "[✓] Unclick realizado en: 88 AYA CAMANA\n",
      "'-----------------------------------------------------------------------'\n",
      "\n",
      ".-----------------------------------------------------------------------.\n",
      "[*] Abriendo Reporte de Power BI (RECHAZOS)\n",
      "[*] Esperando a que cargue la página\n",
      "[*] Pagina cargada (10 seg de renderizado) ...\n",
      "\n",
      "Buscar por locacion ...\n",
      "\n",
      "* 06 AYA EL PEDREGAL *\n",
      "[✓] Click realizado en: 06 AYA EL PEDREGAL\n",
      "[*] Buscando el gráfico: % CF Rechazadas\n",
      "✅ Imagen guardada: RECHAZOS-06 AYA EL PEDREGAL-1.png\n",
      "[*] Buscando el gráfico: CF Rech. por Motivo\n",
      "✅ Imagen guardada: RECHAZOS-06 AYA EL PEDREGAL-2.png\n",
      "[*] Buscando el gráfico: CF Rech. por Transportista\n",
      "✅ Imagen guardada: RECHAZOS-06 AYA EL PEDREGAL-3.png\n",
      "[*] Buscando el gráfico: Historico % Rechazo por día\n",
      "✅ Imagen guardada: RECHAZOS-06 AYA EL PEDREGAL-4.png\n",
      "* 06 AYA EL PEDREGAL *\n",
      "[✓] Unclick realizado en: 06 AYA EL PEDREGAL\n",
      "* 38 AYA ATICO *\n",
      "[✓] Click realizado en: 38 AYA ATICO\n",
      "[*] Buscando el gráfico: % CF Rechazadas\n",
      "✅ Imagen guardada: RECHAZOS-38 AYA ATICO-1.png\n",
      "[*] Buscando el gráfico: CF Rech. por Motivo\n",
      "✅ Imagen guardada: RECHAZOS-38 AYA ATICO-2.png\n",
      "[*] Buscando el gráfico: CF Rech. por Transportista\n",
      "✅ Imagen guardada: RECHAZOS-38 AYA ATICO-3.png\n",
      "[*] Buscando el gráfico: Historico % Rechazo por día\n",
      "✅ Imagen guardada: RECHAZOS-38 AYA ATICO-4.png\n",
      "* 38 AYA ATICO *\n",
      "[✓] Unclick realizado en: 38 AYA ATICO\n",
      "* 40 AYA CHALA *\n",
      "[✓] Click realizado en: 40 AYA CHALA\n",
      "[*] Buscando el gráfico: % CF Rechazadas\n",
      "✅ Imagen guardada: RECHAZOS-40 AYA CHALA-1.png\n",
      "[*] Buscando el gráfico: CF Rech. por Motivo\n",
      "✅ Imagen guardada: RECHAZOS-40 AYA CHALA-2.png\n",
      "[*] Buscando el gráfico: CF Rech. por Transportista\n",
      "✅ Imagen guardada: RECHAZOS-40 AYA CHALA-3.png\n",
      "[*] Buscando el gráfico: Historico % Rechazo por día\n",
      "✅ Imagen guardada: RECHAZOS-40 AYA CHALA-4.png\n",
      "* 40 AYA CHALA *\n",
      "[✓] Unclick realizado en: 40 AYA CHALA\n",
      "* 88 AYA CAMANA *\n",
      "[✓] Click realizado en: 88 AYA CAMANA\n",
      "[*] Buscando el gráfico: % CF Rechazadas\n",
      "✅ Imagen guardada: RECHAZOS-88 AYA CAMANA-1.png\n",
      "[*] Buscando el gráfico: CF Rech. por Motivo\n",
      "✅ Imagen guardada: RECHAZOS-88 AYA CAMANA-2.png\n",
      "[*] Buscando el gráfico: CF Rech. por Transportista\n",
      "✅ Imagen guardada: RECHAZOS-88 AYA CAMANA-3.png\n",
      "[*] Buscando el gráfico: Historico % Rechazo por día\n",
      "✅ Imagen guardada: RECHAZOS-88 AYA CAMANA-4.png\n",
      "* 88 AYA CAMANA *\n",
      "[✓] Unclick realizado en: 88 AYA CAMANA\n",
      "'-----------------------------------------------------------------------'\n",
      "\n"
     ]
    }
   ],
   "source": [
    "# Configuracion usadas para el uso de selenium y chromedriver\n",
    "METAS_Y_RESUMEN_PAGE = {\n",
    "    'page_name': 'METAS Y RESUMEN',\n",
    "    'page_url': 'https://app.powerbi.com/groups/me/reports/73309ec0-8d79-4111-ac74-acee01ed5375/ReportSectionf1e1f415e4cba9cc4035',\n",
    "    'page_graphics': {\n",
    "        1: \"% CF Rechazadas\",\n",
    "        2: \"Total CF Prog, Rech.\",\n",
    "        3: \"Resumen de Rechazos - Meta\" \n",
    "    },    \n",
    "    'filter_report_by': 'month',\n",
    "    'join_report_images': True\n",
    "}\n",
    "RECHAZOS_PAGE = {\n",
    "    'page_name': 'RECHAZOS',\n",
    "    'page_url': 'https://app.powerbi.com/groups/me/reports/73309ec0-8d79-4111-ac74-acee01ed5375/ReportSection487ba5c07a522bf0fc8c',\n",
    "    'page_graphics': {\n",
    "        1: \"% CF Rechazadas\",\n",
    "        2: \"CF Rech. por Motivo\",\n",
    "        3: \"CF Rech. por Transportista\",\n",
    "        4: \"Historico % Rechazo por día\"\n",
    "    },\n",
    "    'filter_report_by': 'locacion',\n",
    "    'join_report_images': True\n",
    "}\n",
    "DETALLES_PAGE = {\n",
    "    'page_name': 'DETALLES',\n",
    "    'page_url': 'https://app.powerbi.com/groups/me/reports/73309ec0-8d79-4111-ac74-acee01ed5375/ReportSection3f59cb816b6f52a24171',\n",
    "    'page_graphics': {\n",
    "        1: \"Detalle de Cajas Físicas Rechazadas\",\n",
    "    },    \n",
    "    'filter_report_by': 'locacion',\n",
    "    'join_report_images': False\n",
    "}\n",
    "PAGES_REPORT = [METAS_Y_RESUMEN_PAGE, DETALLES_PAGE, RECHAZOS_PAGE]\n",
    "\n",
    "# Automatizacion de capturas de graficos del powerbi\n",
    "pb_automate.powerbi_graphics_capture(locaciones, PAGES_REPORT)"
   ]
  },
  {
   "cell_type": "markdown",
   "id": "2bc4f930",
   "metadata": {},
   "source": [
    "Envio de reportes"
   ]
  },
  {
   "cell_type": "code",
   "execution_count": null,
   "id": "d9e02242",
   "metadata": {},
   "outputs": [],
   "source": []
  }
 ],
 "metadata": {
  "kernelspec": {
   "display_name": "Python 3",
   "language": "python",
   "name": "python3"
  },
  "language_info": {
   "codemirror_mode": {
    "name": "ipython",
    "version": 3
   },
   "file_extension": ".py",
   "mimetype": "text/x-python",
   "name": "python",
   "nbconvert_exporter": "python",
   "pygments_lexer": "ipython3",
   "version": "3.13.3"
  }
 },
 "nbformat": 4,
 "nbformat_minor": 5
}
