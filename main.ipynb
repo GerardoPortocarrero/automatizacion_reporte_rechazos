{
 "cells": [
  {
   "cell_type": "markdown",
   "id": "d869f857",
   "metadata": {},
   "source": [
    "### Importaciones"
   ]
  },
  {
   "cell_type": "code",
   "execution_count": 1,
   "id": "163cd28c",
   "metadata": {},
   "outputs": [],
   "source": [
    "# Paquetes necesarios para la ejecución del notebook\n",
    "import win32com.client\n",
    "import os\n",
    "import pandas as pd\n",
    "import openpyxl\n",
    "import polars as pl\n",
    "import pygetwindow as gw\n",
    "from pathlib import Path\n",
    "import importlib\n",
    "\n",
    "# Módulos personalizados\n",
    "import download_mail_files as dmf\n",
    "import update_local_files as ulf\n",
    "import update_transportista_resumen_file as utr\n",
    "import take_powerbi_graphics as tk_pbi\n",
    "import analysis_and_operations as aos\n",
    "import create_html_report as chr\n",
    "import send_email as sm\n",
    "import log_management as log\n",
    "import continue_with_report_interface as cwri"
   ]
  },
  {
   "cell_type": "markdown",
   "id": "1ef3e61e",
   "metadata": {},
   "source": [
    "### Configuracion"
   ]
  },
  {
   "cell_type": "code",
   "execution_count": 2,
   "id": "61fdc76a",
   "metadata": {},
   "outputs": [
    {
     "name": "stderr",
     "output_type": "stream",
     "text": [
      "<>:203: SyntaxWarning: invalid escape sequence '\\/'\n",
      "<>:212: SyntaxWarning: invalid escape sequence '\\/'\n",
      "<>:223: SyntaxWarning: invalid escape sequence '\\/'\n",
      "<>:203: SyntaxWarning: invalid escape sequence '\\/'\n",
      "<>:212: SyntaxWarning: invalid escape sequence '\\/'\n",
      "<>:223: SyntaxWarning: invalid escape sequence '\\/'\n",
      "C:\\Users\\AYACDA23\\AppData\\Local\\Temp\\ipykernel_8424\\3065988753.py:203: SyntaxWarning: invalid escape sequence '\\/'\n",
      "  \"date_format\": \"dd\\/mm\\/yyyy\",\n",
      "C:\\Users\\AYACDA23\\AppData\\Local\\Temp\\ipykernel_8424\\3065988753.py:212: SyntaxWarning: invalid escape sequence '\\/'\n",
      "  \"date_format\": \"dd\\/mm\\/yyyy\",\n",
      "C:\\Users\\AYACDA23\\AppData\\Local\\Temp\\ipykernel_8424\\3065988753.py:223: SyntaxWarning: invalid escape sequence '\\/'\n",
      "  \"date_format\": \"d\\/m\\/yy\",\n"
     ]
    }
   ],
   "source": [
    "# Constantes usadas en el notebook\n",
    "MAPI = \"MAPI\" # Messaging Application Programming Interface\n",
    "DOT = \".\"\n",
    "OUTLOOK = \"Outlook\"\n",
    "APPLICATION = \"Application\"\n",
    "\n",
    "# Diccionarios\n",
    "outlook_folder_codes = {\n",
    "    0: 'Calendario',\n",
    "    1: 'Contactos',\n",
    "    2: 'Borradores',\n",
    "    3: 'Diario / Jornal',\n",
    "    4: 'Notas',\n",
    "    5: 'Tareas',\n",
    "    6: 'Bandeja de entrada',\n",
    "    7: 'Bandeja de salida',\n",
    "    8: 'Elementos enviados',\n",
    "    9: 'Elementos eliminados',\n",
    "    10: 'Bandeja de correo del servidor',\n",
    "    11: 'Conflictos',\n",
    "    12: 'Elementos de sincronizacion local',\n",
    "    13: 'Elementos de sincronizacion (Envio)',\n",
    "    14: 'Elementos de sincronización (Recibo)',\n",
    "    15: 'Elementos de sincronización completa',\n",
    "    16: 'Diario de formularios',\n",
    "    17: 'Carpeta de búsqueda',\n",
    "    18: 'Bandeja para reglas cliente',\n",
    "    19: 'Carpeta de sugerencias de correo',\n",
    "}\n",
    "outlook_object_types = {\n",
    "    \"AppointmentItem\": 26,\n",
    "    \"MailItem\": 43,\n",
    "    \"TaskItem\": 46,\n",
    "    \"ContactItem\": 48,\n",
    "    \"MeetingItem\": 53,\n",
    "}\n",
    "parse_locaciones = {\n",
    "    '06 AYA EL PEDREGAL': 'Pedregal',\n",
    "    '38 AYA ATICO': 'Atico',\n",
    "    '40 AYA CHALA': 'Chala',\n",
    "    '88 AYA CAMANA': 'Camana'\n",
    "}\n",
    "meta = {\n",
    "    '06 AYA EL PEDREGAL': {\n",
    "        2023: {1: 0.7, 2: 0.7, 3: 0.7, 4: 0.7, 5: 0.7, 6: 0.7, 7: 0.7, 8:0.7, 9:0.7, 10:0.7, 11:0.7, 12:0.7},\n",
    "        2024: {1: 1.2, 2: 1.2, 3: 1.2, 4: 1, 5: 1, 6: 1, 7: 1, 8: 1, 9: 1, 10: 1, 11: 1, 12: 1},\n",
    "        2025: {1: 0.88, 2: 0.88, 3: 0.88, 4: 0.88, 5: 0.88, 6: 0.88, 7: 0, 8: 0, 9: 0, 10: 0, 11: 0, 12: 0},\n",
    "    },\n",
    "    '38 AYA ATICO': {\n",
    "        2023: {1: 0.7, 2: 0.7, 3: 0.7, 4: 0.7, 5: 0.7, 6: 0.7, 7: 0.7, 8:0.7, 9:0.7, 10:0.7, 11:0.7, 12:0.7},\n",
    "        2024: {1: 0.4, 2: 0.4, 3: 0.4, 4: 0.48, 5: 0.48, 6: 0.48, 7: 0.48, 8: 0.48, 9: 0.48, 10: 0.48, 11: 0.48, 12: 0.48},\n",
    "        2025: {1: 0.24, 2: 0.24, 3: 0.24, 4: 0.24, 5: 0.24, 6: 0.24, 7: 0, 8: 0, 9: 0, 10: 0, 11: 0, 12: 0},\n",
    "    },\n",
    "    '40 AYA CHALA': {\n",
    "        2023: {1: 0.7, 2: 0.7, 3: 0.7, 4: 0.7, 5: .7, 6: 0.7, 7: 0.7, 8:0.7, 9:0.7, 10:0.7, 11:0.7, 12:0.7},\n",
    "        2024: {1: 0.5, 2: 0.5, 3: 0.5, 4: 0.60, 5: 0.60, 6: 0.60, 7: 0.60, 8: 0.60, 9: 0.60, 10: 0.60, 11: 0.60, 12: 0.60},\n",
    "        2025: {1: 0.31, 2: 0.31, 3: 0.31, 4: 0.31, 5: 0.31, 6: 0.31, 7: 0, 8: 0, 9: 0, 10: 0, 11: 0, 12: 0},\n",
    "    },\n",
    "    '88 AYA CAMANA': {\n",
    "        2023: {1: 0.7, 2: 0.7, 3: 0.7, 4: 0.7, 5: 0.7, 6: 0.7, 7: 0.7, 8:0.7, 9:0.7, 10:0.7, 11:0.7, 12:0.7},\n",
    "        2024: {1: 0.85, 2: 0.85, 3: 0.85, 4: 0.85, 5: 0.85, 6: 0.85, 7: 0.85, 8: 0.85, 9: 0.85, 10: 0.85, 11: 0.85, 12: 0.85},\n",
    "        2025: {1: 0.57, 2: 0.57, 3: 0.57, 4: 0.57, 5: 0.57, 6: 0.57, 7: 0, 8: 0, 9: 0, 10: 0, 11: 0, 12: 0},\n",
    "    }\n",
    "}\n",
    "months = {\n",
    "    1: 'Enero', 2: 'Febrero', 3: 'Marzo', 4: 'Abril', 5: 'Mayo', 6: 'Junio',\n",
    "    7: 'Julio', 8: 'Agosto', 9: 'Septiembre', 10: 'Octubre', \n",
    "    11: 'Noviembre', 12: 'Diciembre'\n",
    "}\n",
    "vendedores = {\n",
    "    '06 AYA EL PEDREGAL': {\n",
    "        '0000001013': 'AYALA CCAHUANA EDMUNDO',\n",
    "        '0000001006': 'BARRAZA REVILLA FREDY',\n",
    "        '0000001000': 'CARDENAS CHOQUECAJIA WHITNEY AWARD',\n",
    "        '0000001001': 'CHARA ROJAS GISELA SOLEDAD',\n",
    "        '0000001007': 'CHINO QUISPE JORGE LUIS',\n",
    "        '0000006014': 'EDWAR QUISPE CHINO',\n",
    "        '0000006009': 'GALLARDO HUAYLLA RENATO LEUTERIO',\n",
    "        '0000006003': 'GALLEGOS NUÑEZ JUAN FREDY',\n",
    "        '0000005999': 'GESTOR VIRTUAL',\n",
    "        '0000001010': 'HUANCA MAMANI JACKSON',\n",
    "        '0000006006': 'HUAYCHO TORRES ULBER',\n",
    "        '0000006005': 'HUAYCHO TORRES ULBER',\n",
    "        '0000001012': 'HUAYLLAZO HUACCHA CRISTHIAN PAOLO',\n",
    "        '0000006012': 'NELSON RAUL CONZA CHARCA',\n",
    "        '0000001002': 'PACHECO CONDORI ANDRES OSCAR',\n",
    "        '0000001011': 'QUISPE CHINO WILIAN YURI',\n",
    "        '0000001004': 'QUISPE HUAYLLA MARISOL S.',\n",
    "        '0000006013': 'RONALD GONZALO HUILLCA MAMANI',\n",
    "        '0000001003': 'TACO XESSPE KELY SOFIA',\n",
    "        '0000001005': 'VALDERRAMA ELLIS JESSICA A.',\n",
    "        '0000001008': 'VEND NVA RUTA 10',\n",
    "        '0000001009': 'YUCRA JIMENEZ ANA LUZ',\n",
    "        '0000001014': 'CHARA ROJAS GISELA SOLEDAD',\n",
    "        '0000001015': 'BARRAZA REVILLA FREDY',\n",
    "        '0000001019': 'BATALLANOS SANCA RODRIGO LEOPOLDO',\n",
    "        '0000001016': 'PARI PUCHO FREDY OSWALDO',\n",
    "        '0000001017': 'COAGUILLA MAMANI JOSE ALBERTO',\n",
    "        '0000001018': 'ORTEGA MAMANI JORGE LUIS'\n",
    "    },\n",
    "    '38 AYA ATICO': {\n",
    "        '0000001001': 'ALANYA RAMIREZ FERNANDO JOSUE',\n",
    "        '0000005999': 'GESTOR VIRTUAL',\n",
    "        '0000001000': 'SAUL ANDRES VIÑA VIZCARDO'\n",
    "    },\n",
    "    '40 AYA CHALA': {\n",
    "        '0000001004': 'CANALES AGUILAR HILBERTO',\n",
    "        '0000001007': 'CHIPANA JURADO JHORS EDUARDO',\n",
    "        '0000006010': 'DIONICIO DANIEL HUARCAYA SALAZAR',\n",
    "        '0000005999': 'GESTOR VIRTUAL',\n",
    "        '0000006009': 'GLOBER FELIPE JARA MAQUER',\n",
    "        '0000006005': 'GONZALES CHURA MAGNO ALFREDO',\n",
    "        '0000001000': 'HERRERA TAPIA EDWIN DONATO',\n",
    "        '0000006002': 'JARA CARAZAS RODOLFO JOSUE.L',\n",
    "        '0000006007': 'JUAN CARLOS ARIAS BENITES',\n",
    "        '0000001003': 'MAMANI TINTAYA KRISTHOFER',\n",
    "        '0000001006': 'MAMANI TINTAYA KRISTHOFER',\n",
    "        '0000001005': 'QUISE CCAPA EVER',\n",
    "        '0000001002': 'RODRIGUEZ JOSE ANTONIO',\n",
    "        '0000001001': 'VENDEDOR RT M1'        \n",
    "    },\n",
    "    '88 AYA CAMANA': {\n",
    "        '0000001007': 'AUCAHUAQUI REVILLA DANIEL HITLER',\n",
    "        '0000001011': 'CARAZAS REZA LUIS ALBERTO',\n",
    "        '0000001003': 'CONDORCHOA SIERRA NEMECIO',\n",
    "        '0000006001': 'CONDORCHOA SIERRA NEMESIO JESUS',\n",
    "        '0000006002': 'DE LA CRUZ CALCINA ELAR',\n",
    "        '0000006010': 'EDILBERTO RAMIREZ LARICO',\n",
    "        '0000005999': 'GESTOR VIRTUAL',\n",
    "        '0000001002': 'HUAMANI RODRIGUEZ YONATAN ANYIMZAN',\n",
    "        '0000006011': 'JAIME CHAVEZ CONDORI',\n",
    "        '0000001005': 'LLERENA DE LA CRUZ RICARDO SNEIDER',\n",
    "        '0000001004': 'MEDINA VELASQUEZ JAVIER ENRIQUE',\n",
    "        '0000006014': 'MOISES RICHARD CONDORCHOA SIERRA',\n",
    "        '0000001008': 'MOLLO YUPANQUI JOSE OMAR',\n",
    "        '0000001001': 'NO APLICA VENDEDOR',\n",
    "        '0000006008': 'QUISPE CCACHUCO FREDY',\n",
    "        '0000001010': 'RAMOS MAMANI RUBEN',\n",
    "        '0000006016': 'RENATO ELEUTERIO GALLARADO HUAYLLA',\n",
    "        '0000001006': 'SACARI CHOQUEHUANCA WILSON',\n",
    "        '0000001000': 'SALAZAR HUAMANI SAUL ANTONIO',\n",
    "        '0000001012': 'VEND RT X1',\n",
    "        '0000001009': 'VIZCARDO BUSTAMANTE ALBERTH FRANCK'\n",
    "    }\n",
    "}\n",
    "transportistas_code = {\n",
    "    '06 AYA EL PEDREGAL': {\n",
    "        'PACHECO CONDORI FERNANDO JOSE': '606002',\n",
    "        'GALLEGOS NUÑEZ JUAN FREDY': '606003',\n",
    "        'HUAYCHO TORRES ULBER': '606006',\n",
    "        'GALLARDO HUAYLLA RENATO LEUTERIO': '606009',\n",
    "        'NELSON RAUL CONZA CHARCA': '606012',\n",
    "        'RONALD GONZALO HUILLCA MAMANI': '606013',\n",
    "        'MERMA CUTI JHON ELVIS': '606008',\n",
    "        'HUAYLLAZO CHOQUE CAYETANO DONATO': '606005',\n",
    "        'EDWAR QUISPE CHINO': '606014',\n",
    "        'ALVARES, HUAMAN EDWIN': '606011',\n",
    "        'VIRGILIO HUAYCHO TORRES': '606015',\n",
    "        'CARMELO RAYNALDO LAGOS CHILE': '606017',\n",
    "        'ROBIN WILFREDO YUCRA SOTO': '606016',\n",
    "    },\n",
    "    '38 AYA ATICO': {\n",
    "        'CARLOS JERRY QUISPE TOHALINO': '3806004',\n",
    "        'JAMES  ROGER CUTI CUYO': '3806006',\n",
    "        'LUIS MICHAEL RONDON IZQUIERDO': '3806005',\n",
    "        'ZAMUDIO,CHACON PERCY LUIS': '3806002'\n",
    "    },\n",
    "    '40 AYA CHALA': {\n",
    "        'GONZALES CHURA MAGNO ALFREDO': '4006005',\n",
    "        'JARA CARAZAS RODOLFO JOSUE.L': '4006002',\n",
    "        'JUAN CARLOS ARIAS BENITES': '4006007',\n",
    "        'GLOBER FELIPE JARA MAQUER': '4006009',\n",
    "        'DIONICIO DANIEL HUARCAYA SALAZAR': '4006010',\n",
    "        'VENTA OFICINA': '4006001',\n",
    "        'PERCY LUIS ZAMUDIO ALVARES': '4006013',\n",
    "        'JUAN  MARIO PAYPAY  HUAMANI': '4006014'\n",
    "    },\n",
    "    '88 AYA CAMANA': {\n",
    "        'VENTA OFICINA': '4006001',\n",
    "        'CONDORCHOA SIERRA NEMESIO JESUS': '8806001',\n",
    "        'DE LA CRUZ CALCINA ELAR': '8806002',\n",
    "        'RAMOS GUEVARA DEHIVI PATRIPT': '8806003',\n",
    "        'QUISPE CCACHUCO FREDY': '8806008',\n",
    "        'EDILBERTO RAMIREZ LARICO': '8806010',\n",
    "        'JAIME CHAVEZ CONDORI': '8806011',\n",
    "        'MOISES RICHARD CONDORCHOA SIERRA': '8806014',\n",
    "        'ALEXI JOSELYN MOGROVEJO HUAMANI': '8806015',\n",
    "        'MIGUEL ANGEL MESIAS SILVA': '8806013',\n",
    "        'EVERARDO JESUS NUÑEZ SARAVIA': '8806012',\n",
    "        'VENTA DE OFICINA': '8808994',\n",
    "        'RENATO ELEUTERIO GALLARADO HUAYLLA': '8806016'\n",
    "    },\n",
    "}\n",
    "transportista = {\n",
    "    \"name\": \"transportista\",\n",
    "    \"mail_subject\": \"Reporte de ordenes de carga diario\",         # Nombre del asunto de correo\n",
    "    \"local_file_name\": \"Cf_programadas_por_transportista.csv\",    # Nombre del archivo local\n",
    "    \"local_file_address\": \"\",                                     # Direccion del archivo local\n",
    "    \"mail_file_address\": \"\",                                      # Direccion del archivo del correo\n",
    "    \"mail_sheet_name\": \"Guias\",\n",
    "    \"mail_received_time\": \"\",\n",
    "    \"date\": \"Fecha\",\n",
    "    \"date_format\": \"dd\\/mm\\/yyyy\",\n",
    "    \"transportista\": \"Código de Transportista\",\n",
    "}\n",
    "transportista_resumen = {\n",
    "    \"name\": \"transportista resumen\",\n",
    "    \"mail_subject\": \"Reporte de ordenes de carga diario\",                 # Nombre del asunto de correo\n",
    "    \"local_file_name\": \"Cf_programadas_por_transportista_resumen.csv\",    # Nombre del archivo local\n",
    "    \"local_file_address\": \"\",                                             # Direccion del archivo local\n",
    "    \"date\": \"Fecha\",\n",
    "    \"date_format\": \"dd\\/mm\\/yyyy\",\n",
    "}\n",
    "ruta = {\n",
    "    \"name\": \"ruta\",\n",
    "    \"mail_subject\": \"Venta perdida diaria por cliente y ruta - acum mes\",   # Nombre del asunto de correo\n",
    "    \"local_file_name\": \"Cf_rech_por_ruta.csv\",                              # Nombre del archivo local\n",
    "    \"local_file_address\": \"\",                                               # Direccion del archivo local\n",
    "    \"mail_file_address\": \"\",                                                # Direccion del archivo del correo\n",
    "    \"mail_sheet_name\": \"Motivos_VP (clte)\",\n",
    "    \"mail_received_time\": \"\",\n",
    "    \"date\": \"Día\",\n",
    "    \"date_format\": \"d\\/m\\/yy\",\n",
    "    \"transportista\": \"Código Transportista\",\n",
    "}\n",
    "\n",
    "# Listas\n",
    "locaciones = ['06 AYA EL PEDREGAL', '38 AYA ATICO', '40 AYA CHALA', '88 AYA CAMANA']\n",
    "\n",
    "# Variables de configuracion\n",
    "root_address = r'C:\\Informacion\\rechazos' # Direcccion de carpeta raiz\n",
    "test_address = r'\\prueba'\n",
    "backup_address = r'\\backup'\n",
    "project_address = Path.cwd()\n",
    "mail_report_folder_address = \"mail_report\""
   ]
  },
  {
   "cell_type": "markdown",
   "id": "b058bcf2",
   "metadata": {},
   "source": [
    "### Obtener correos de Outlook\n",
    "\n",
    "Configuracion de uso de Outlook"
   ]
  },
  {
   "cell_type": "code",
   "execution_count": 3,
   "id": "127123ae",
   "metadata": {},
   "outputs": [
    {
     "name": "stdout",
     "output_type": "stream",
     "text": [
      "Tipo de folder:  Bandeja de entrada\n"
     ]
    }
   ],
   "source": [
    "# Conectar a Outlook\n",
    "#outlook_folder_code = int(input(f'{\" \".join([\"(\" + str(key) + \": \" + value + \")\" for key, value in outlook_folder_codes.items()])}'))\n",
    "outlook = win32com.client.Dispatch(OUTLOOK+DOT+APPLICATION).GetNamespace(MAPI)\n",
    "\n",
    "outlook_folder = outlook.GetDefaultFolder(6)\n",
    "print(\"Tipo de folder: \", outlook_folder)"
   ]
  },
  {
   "cell_type": "markdown",
   "id": "8adb2ea7",
   "metadata": {},
   "source": [
    "Guardar archivo de outlook"
   ]
  },
  {
   "cell_type": "code",
   "execution_count": 4,
   "id": "af8303c0",
   "metadata": {},
   "outputs": [
    {
     "name": "stderr",
     "output_type": "stream",
     "text": [
      "c:\\Users\\AYACDA23\\AppData\\Local\\Programs\\Python\\Python313\\Lib\\site-packages\\openpyxl\\styles\\stylesheet.py:237: UserWarning: Workbook contains no default style, apply openpyxl's default\n",
      "  warn(\"Workbook contains no default style, apply openpyxl's default\")\n",
      "c:\\Users\\AYACDA23\\AppData\\Local\\Programs\\Python\\Python313\\Lib\\site-packages\\openpyxl\\styles\\stylesheet.py:237: UserWarning: Workbook contains no default style, apply openpyxl's default\n",
      "  warn(\"Workbook contains no default style, apply openpyxl's default\")\n",
      "c:\\Users\\AYACDA23\\AppData\\Local\\Programs\\Python\\Python313\\Lib\\site-packages\\openpyxl\\styles\\stylesheet.py:237: UserWarning: Workbook contains no default style, apply openpyxl's default\n",
      "  warn(\"Workbook contains no default style, apply openpyxl's default\")\n"
     ]
    },
    {
     "name": "stdout",
     "output_type": "stream",
     "text": [
      "DATOS: {'transportista': {'file_address': 'C:\\\\Informacion\\\\rechazos\\\\prueba\\\\Reporte de Guias de Distribución por FechaV3_54_474526182898396756.xlsx', 'received_time': '2025-06-12'}, 'ruta': {'file_address': 'C:\\\\Informacion\\\\rechazos\\\\prueba\\\\Venta perdida x Cliente y ruta diaria_3726_5070936250992178252.xlsx', 'received_time': '2025-06-12'}}\n"
     ]
    }
   ],
   "source": [
    "importlib.reload(dmf)\n",
    "\n",
    "# Buscar el correo más reciente con archivo Excel\n",
    "mails = outlook_folder.Items\n",
    "\n",
    "# Ordenar por fecha descendente\n",
    "mails.Sort(\"[ReceivedTime]\", True) # (mails) Es un objeto lista\n",
    "\n",
    "''' MAIL PROPERTIES\n",
    "    | (mail.Subject) (mail.ReceivedTime) (mail.SenderName)       |\n",
    "    | (mail.SenderEmailAddress) (mail.To) (mail.CC)              |\n",
    "    | (mail.Body) (mail.Attachments.Count) (mail.CreationTime)   |\n",
    "    | (mail.LastModificationTime) (mail.EntryID)                 |\n",
    "'''\n",
    "\n",
    "(\n",
    "    transportista['mail_file_address'], \n",
    "    transportista['mail_received_time'], \n",
    "    ruta['mail_file_address'], \n",
    "    ruta['mail_received_time']\n",
    ") = dmf.download_mail_files(\n",
    "    mails, \n",
    "    outlook_object_types['MailItem'],\n",
    "    root_address,\n",
    "    test_address,\n",
    "    transportista, \n",
    "    ruta\n",
    ")"
   ]
  },
  {
   "cell_type": "markdown",
   "id": "3ba78b40",
   "metadata": {},
   "source": [
    "Establecer configuraciones finales"
   ]
  },
  {
   "cell_type": "code",
   "execution_count": 5,
   "id": "b3d8ae6c",
   "metadata": {},
   "outputs": [
    {
     "name": "stdout",
     "output_type": "stream",
     "text": [
      "\n",
      "TRANSPORTISTA:\n",
      "name: transportista\n",
      "mail_subject: Reporte de ordenes de carga diario\n",
      "local_file_name: Cf_programadas_por_transportista.csv\n",
      "local_file_address: C:\\Informacion\\rechazos\\prueba\\Cf_programadas_por_transportista.csv\n",
      "mail_file_address: C:\\Informacion\\rechazos\\prueba\\Reporte de Guias de Distribución por FechaV3_54_474526182898396756.xlsx\n",
      "mail_sheet_name: Guias\n",
      "mail_received_time: 2025-06-12\n",
      "date: Fecha\n",
      "date_format: dd\\/mm\\/yyyy\n",
      "transportista: Código de Transportista\n",
      "\n",
      "TRANSPORTISTA RESUMEN:\n",
      "name: transportista resumen\n",
      "mail_subject: Reporte de ordenes de carga diario\n",
      "local_file_name: Cf_programadas_por_transportista_resumen.csv\n",
      "local_file_address: C:\\Informacion\\rechazos\\prueba\\Cf_programadas_por_transportista_resumen.csv\n",
      "date: Fecha\n",
      "date_format: dd\\/mm\\/yyyy\n",
      "\n",
      "RUTA:\n",
      "name: ruta\n",
      "mail_subject: Venta perdida diaria por cliente y ruta - acum mes\n",
      "local_file_name: Cf_rech_por_ruta.csv\n",
      "local_file_address: C:\\Informacion\\rechazos\\prueba\\Cf_rech_por_ruta.csv\n",
      "mail_file_address: C:\\Informacion\\rechazos\\prueba\\Venta perdida x Cliente y ruta diaria_3726_5070936250992178252.xlsx\n",
      "mail_sheet_name: Motivos_VP (clte)\n",
      "mail_received_time: 2025-06-12\n",
      "date: Día\n",
      "date_format: d\\/m\\/yy\n",
      "transportista: Código Transportista\n"
     ]
    }
   ],
   "source": [
    "transportista['local_file_address'] = os.path.join(root_address+test_address, transportista['local_file_name'])\n",
    "transportista_resumen['local_file_address'] = os.path.join(root_address+test_address, transportista_resumen['local_file_name'])\n",
    "ruta['local_file_address'] = os.path.join(root_address+test_address, ruta['local_file_name'])\n",
    "\n",
    "# Configuracion de documentos\n",
    "def imprimir_diccionario(nombre, diccionario):\n",
    "    print(f'\\n{nombre.upper()}:')\n",
    "    for clave, valor in diccionario.items():\n",
    "        print(f'{clave}: {valor}')\n",
    "\n",
    "imprimir_diccionario('Transportista', transportista)\n",
    "imprimir_diccionario('Transportista Resumen', transportista_resumen)\n",
    "imprimir_diccionario('Ruta', ruta)"
   ]
  },
  {
   "cell_type": "markdown",
   "id": "0ae560c1",
   "metadata": {},
   "source": [
    "### Actualizar archivos locales y creacion de resumen\n",
    "\n",
    "Actualizar Transportista y Ruta"
   ]
  },
  {
   "cell_type": "code",
   "execution_count": 6,
   "id": "d2462f03",
   "metadata": {},
   "outputs": [
    {
     "name": "stdout",
     "output_type": "stream",
     "text": [
      "[*] Procediendo con la actualización de archivos locales\n"
     ]
    },
    {
     "name": "stderr",
     "output_type": "stream",
     "text": [
      "c:\\Users\\AYACDA23\\AppData\\Local\\Programs\\Python\\Python313\\Lib\\site-packages\\openpyxl\\styles\\stylesheet.py:237: UserWarning: Workbook contains no default style, apply openpyxl's default\n",
      "  warn(\"Workbook contains no default style, apply openpyxl's default\")\n"
     ]
    },
    {
     "name": "stdout",
     "output_type": "stream",
     "text": [
      "⚠️ No hay datos nuevos en el archivo de correo 'C:\\Informacion\\rechazos\\prueba\\Reporte de Guias de Distribución por FechaV3_54_474526182898396756.xlsx' para la hoja 'Guias'.\n"
     ]
    },
    {
     "name": "stderr",
     "output_type": "stream",
     "text": [
      "c:\\Users\\AYACDA23\\AppData\\Local\\Programs\\Python\\Python313\\Lib\\site-packages\\openpyxl\\styles\\stylesheet.py:237: UserWarning: Workbook contains no default style, apply openpyxl's default\n",
      "  warn(\"Workbook contains no default style, apply openpyxl's default\")\n"
     ]
    },
    {
     "name": "stdout",
     "output_type": "stream",
     "text": [
      "⚠️ No hay datos nuevos en el archivo de correo 'C:\\Informacion\\rechazos\\prueba\\Venta perdida x Cliente y ruta diaria_3726_5070936250992178252.xlsx' para la hoja 'Motivos_VP (clte)'.\n"
     ]
    },
    {
     "name": "stderr",
     "output_type": "stream",
     "text": [
      "c:\\Informacion\\rechazos\\Analisis\\automatizacion_reporte_rechazos\\update_local_files.py:37: UserWarning: Could not infer format, so each element will be parsed individually, falling back to `dateutil`. To ensure parsing is consistent and as-expected, please specify a format.\n",
      "  df_local_copy[document['date']+\"2\"] = pd.to_datetime(df_local_copy[document['date']], dayfirst=True, errors='coerce')\n"
     ]
    }
   ],
   "source": [
    "importlib.reload(ulf)\n",
    "\n",
    "mail_data_is_empty = False\n",
    "\n",
    "print('[*] Procediendo con la actualización de archivos locales')\n",
    "transportista_updated, transportista_mail_is_empty = ulf.update_local_file(transportista, locaciones, root_address, test_address, vendedores, transportistas_code)\n",
    "ruta_updated, ruta_mail_is_empty = ulf.update_local_file(ruta, locaciones, root_address, test_address, vendedores, transportistas_code)\n",
    "\n",
    "mail_data_is_empty = transportista_mail_is_empty or ruta_mail_is_empty"
   ]
  },
  {
   "cell_type": "markdown",
   "id": "c5d2e14c",
   "metadata": {},
   "source": [
    "Creacion de resumen de Transportista"
   ]
  },
  {
   "cell_type": "code",
   "execution_count": 7,
   "id": "179d6d35",
   "metadata": {},
   "outputs": [],
   "source": [
    "importlib.reload(utr)\n",
    "\n",
    "transportista_resumen_updated = utr.create_transportista_resumen_file(meta, transportista_updated)"
   ]
  },
  {
   "cell_type": "markdown",
   "id": "c9513a2d",
   "metadata": {},
   "source": [
    "Guardar archivos"
   ]
  },
  {
   "cell_type": "code",
   "execution_count": 8,
   "id": "63eb135c",
   "metadata": {},
   "outputs": [
    {
     "name": "stdout",
     "output_type": "stream",
     "text": [
      "❌ Archivos de correo desactualizados (NO PROCEDE EL GUARDADO DE ARCHIVOS)\n",
      "Archivo de transportista: 2025-06-12\n",
      "Archivo de ruta: 2025-06-12\n"
     ]
    }
   ],
   "source": [
    "importlib.reload(log)\n",
    "importlib.reload(ulf)\n",
    "\n",
    "log.delete_log()\n",
    "log.write_log(f'Fecha de correos: ({transportista[\"mail_received_time\"]})')\n",
    "\n",
    "if mail_data_is_empty:\n",
    "    print(f\"❌ Archivos de correo desactualizados (NO PROCEDE EL GUARDADO DE ARCHIVOS)\")\n",
    "    print(f\"Archivo de transportista: {transportista['mail_received_time']}\")\n",
    "    print(f\"Archivo de ruta: {ruta['mail_received_time']}\")\n",
    "    \n",
    "    log.write_log('[X] Archivos de correo desactualizados')\n",
    "\n",
    "else:\n",
    "    print(f'✅ Archivos de correo actualizados ({transportista[\"mail_received_time\"]})')\n",
    "    print('[*] Procediendo con el guardado de archivos locales ...')\n",
    "\n",
    "    ulf.save_local_file_changes(transportista, os.path.join(root_address, test_address+backup_address))\n",
    "    ulf.save_local_file_changes(ruta, os.path.join(root_address, test_address+backup_address))\n",
    "    ulf.save_local_file_changes(transportista_resumen, os.path.join(root_address, test_address+backup_address))\n",
    "    \n",
    "    ulf.save_local_file_changes(transportista_updated, transportista)\n",
    "    ulf.save_local_file_changes(ruta_updated, ruta)\n",
    "    ulf.save_local_file_changes(transportista_resumen_updated, transportista_resumen)\n",
    "\n",
    "    log.write_log('[✓] Archivos de correo actualizados')"
   ]
  },
  {
   "cell_type": "markdown",
   "id": "0738ee28",
   "metadata": {},
   "source": [
    "### Envio de reporte"
   ]
  },
  {
   "cell_type": "code",
   "execution_count": 23,
   "id": "e6d0176d",
   "metadata": {},
   "outputs": [],
   "source": [
    "# Fecha de correos\n",
    "year, month, day = transportista[\"mail_received_time\"].split('-')"
   ]
  },
  {
   "cell_type": "markdown",
   "id": "1ae1cf21",
   "metadata": {},
   "source": [
    "### Automatizacion de envio de reporte"
   ]
  },
  {
   "cell_type": "code",
   "execution_count": 20,
   "id": "85c2b4fb",
   "metadata": {},
   "outputs": [],
   "source": [
    "# Configuracion usadas para el uso de selenium y chromedriver\n",
    "METAS_Y_RESUMEN_PAGE = {\n",
    "    'page_name': 'METAS Y RESUMEN',\n",
    "    'page_url': 'https://app.powerbi.com/groups/me/reports/73309ec0-8d79-4111-ac74-acee01ed5375/ReportSectionf1e1f415e4cba9cc4035',\n",
    "    'page_graphics': {\n",
    "        1: \"% CF Rechazadas\",\n",
    "        2: \"Total CF Prog, Rech.\",\n",
    "        3: \"Resumen de Rechazos - Meta\" \n",
    "    },    \n",
    "    'filter_report_by': 'month',\n",
    "    'join_report_images': True,\n",
    "}\n",
    "DETALLES_PAGE = {\n",
    "    'page_name': 'DETALLES',\n",
    "    'page_url': 'https://app.powerbi.com/groups/me/reports/73309ec0-8d79-4111-ac74-acee01ed5375/ReportSection3f59cb816b6f52a24171',\n",
    "    'page_graphics': {\n",
    "        1: \"Detalle de Cajas Físicas Rechazadas\",\n",
    "    },    \n",
    "    'filter_report_by': 'locacion',\n",
    "    'join_report_images': False,\n",
    "}\n",
    "RECHAZOS_PAGE = {\n",
    "    'page_name': 'RECHAZOS',\n",
    "    'page_url': 'https://app.powerbi.com/groups/me/reports/73309ec0-8d79-4111-ac74-acee01ed5375/ReportSection487ba5c07a522bf0fc8c',\n",
    "    'page_graphics': {\n",
    "        1: \"% CF Rechazadas\",\n",
    "        2: \"CF Rech. por Motivo\",\n",
    "        3: \"CF Rech. por Transportista\",\n",
    "        4: \"Historico % Rechazo por día\"\n",
    "    },\n",
    "    'filter_report_by': 'locacion',\n",
    "    'join_report_images': True,\n",
    "}\n",
    "PAGES_REPORT = [METAS_Y_RESUMEN_PAGE, DETALLES_PAGE, RECHAZOS_PAGE]\n",
    "MAIL_TO = \"admpedregal@ayacda.com;admcamana@ayacda.com;admchala@ayacda.com;admatico@ayacda.com;suppedregal@ayacda.com;supcamana@ayacda.com;supchalatico@ayacda.com;rgallegos@aclogistica.pe;admcamana@ayacda.com;suppedregal@ayacda.com;admpedregal@ayacda.com;suplajoya@ayacda.com;gersrpb@gmail.com; gportocarrerob@unsa.edu.pe;\"\n",
    "MAIL_CC = \"contabilidad@ayacda.com;adm@ayacda.com;gcamana@ayacda.com\""
   ]
  },
  {
   "cell_type": "code",
   "execution_count": null,
   "id": "ba0b8688",
   "metadata": {},
   "outputs": [
    {
     "name": "stdout",
     "output_type": "stream",
     "text": [
      "[*] Procediendo con el tratamiento de datos html\n",
      "[*] Procediendo con el envío de correo\n",
      "❌ Proceso finalizado por el usuario.\n"
     ]
    }
   ],
   "source": [
    "importlib.reload(tk_pbi)\n",
    "importlib.reload(chr)\n",
    "importlib.reload(aos)\n",
    "importlib.reload(sm)\n",
    "importlib.reload(cwri)\n",
    "\n",
    "# if continue_with_report == 'si':\n",
    "\n",
    "#     # Automatizacion de capturas de graficos del powerbi\n",
    "#     print(f'\\n✅ Archivos de correo con informacion nueva ({transportista[\"mail_received_time\"]})')\n",
    "#     print('[*] Procediendo con la captura de graficos ...')\n",
    "#     tk_pbi.take_powerbi_graphics_main(locaciones, PAGES_REPORT)\n",
    "\n",
    "#     # Automatizacion de generacion de html\n",
    "#     print(f'\\n✅ Archivos de correo correctamente sincronizados ({transportista[\"mail_received_time\"]})')\n",
    "#     print('[*] Procediendo con el tratamiento de datos html')\n",
    "#     calculations, total_rechazos = aos.make_calculations_for_locations(root_address, test_address, locaciones, transportista, ruta, month, year)\n",
    "#     chr.create_html_report_main(mail_report_folder_address, locaciones, calculations, month, year, total_rechazos, months)\n",
    "\n",
    "#     # Automatizacion de envio de correo\n",
    "#     print(f'✅ Archivos de correo correctamente sincronizados ({transportista[\"mail_received_time\"]})')\n",
    "#     print('[*] Procediendo con el tratamiento de datos html')\n",
    "#     sm.send_email_main(mail_report_folder_address, project_address, month[month], year, MAIL_TO, MAIL_CC)\n",
    "\n",
    "# else:\n",
    "#     print(f\"❌ No se procedio al proceso automatizado de envio de reporte\")\n",
    "\n",
    "def ejecutar_proceso_automatico():\n",
    "    # Automatizacion de capturas de graficos del powerbi\n",
    "    print(f'\\n✅ Archivos de correo con información nueva ({transportista[\"mail_received_time\"]})')\n",
    "    print('[*] Procediendo con la captura de gráficos ...')\n",
    "    tk_pbi.take_powerbi_graphics_main(locaciones, PAGES_REPORT, mail_report_folder_address)\n",
    "    print(f\"[✓] Captura de graficos terminado\\n\")\n",
    "\n",
    "    # Automatizacion de generacion de html\n",
    "    print('[*] Procediendo con el tratamiento de datos html')\n",
    "    calculations, total_rechazos = aos.make_calculations_for_locations(\n",
    "        root_address, test_address, locaciones, transportista, ruta, month, year)\n",
    "    chr.create_html_report_main(mail_report_folder_address, locaciones, calculations, month, year, total_rechazos, months)\n",
    "    print(f\"[✓] Generacion de HTML terminado\\n\")\n",
    "\n",
    "    # Automatizacion de envio de correo\n",
    "    print('[*] Procediendo con el envío de correo')\n",
    "    sm.send_email_main(mail_report_folder_address, project_address, months[int(month)], year, MAIL_TO, MAIL_CC)\n",
    "    print(f\"[✓] Envio de correo terminado\")\n",
    "\n",
    "# 🔁 Bucle de confirmación\n",
    "while True:\n",
    "    respuesta = cwri.main_interface('Continuar con el reporte?')\n",
    "\n",
    "    if respuesta == 'sí':\n",
    "        ejecutar_proceso_automatico()\n",
    "    else:\n",
    "        print(\"\\n[✓] Proceso finalizado.\")\n",
    "        break  # salir del bucle"
   ]
  }
 ],
 "metadata": {
  "kernelspec": {
   "display_name": "Python 3",
   "language": "python",
   "name": "python3"
  },
  "language_info": {
   "codemirror_mode": {
    "name": "ipython",
    "version": 3
   },
   "file_extension": ".py",
   "mimetype": "text/x-python",
   "name": "python",
   "nbconvert_exporter": "python",
   "pygments_lexer": "ipython3",
   "version": "3.13.3"
  }
 },
 "nbformat": 4,
 "nbformat_minor": 5
}
